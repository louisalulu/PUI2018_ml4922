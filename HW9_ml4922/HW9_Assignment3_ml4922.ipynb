{
 "cells": [
  {
   "cell_type": "markdown",
   "metadata": {
    "run_control": {
     "frozen": false,
     "read_only": false
    },
    "toc": "true"
   },
   "source": [
    "# Table of Contents\n",
    " <p><div class=\"lev1 toc-item\"><a href=\"#DATA:\" data-toc-modified-id=\"DATA:-1\"><span class=\"toc-item-num\">1&nbsp;&nbsp;</span>DATA:</a></div><div class=\"lev1 toc-item\"><a href=\"#exploration\" data-toc-modified-id=\"exploration-2\"><span class=\"toc-item-num\">2&nbsp;&nbsp;</span>exploration</a></div><div class=\"lev2 toc-item\"><a href=\"#plot-mass-shooting-vs-gdp-in-absolute-numbers,-and-per-person.-Show-the-errorbars-(y-errors)\" data-toc-modified-id=\"plot-mass-shooting-vs-gdp-in-absolute-numbers,-and-per-person.-Show-the-errorbars-(y-errors)-21\"><span class=\"toc-item-num\">2.1&nbsp;&nbsp;</span>plot mass shooting vs gdp in absolute numbers, and per person. Show the errorbars (y errors)</a></div><div class=\"lev2 toc-item\"><a href=\"#plot-the-average-number-of-civilian-fire-arms-per-person\" data-toc-modified-id=\"plot-the-average-number-of-civilian-fire-arms-per-person-22\"><span class=\"toc-item-num\">2.2&nbsp;&nbsp;</span>plot the average number of civilian fire arms per person</a></div><div class=\"lev2 toc-item\"><a href=\"#plot-the-average-number-of-homicide-by-fire-arms-per-person\" data-toc-modified-id=\"plot-the-average-number-of-homicide-by-fire-arms-per-person-23\"><span class=\"toc-item-num\">2.3&nbsp;&nbsp;</span>plot the average number of homicide by fire arms per person</a></div><div class=\"lev2 toc-item\"><a href=\"#plot-the-number-of--homicides-by-fire-arm-against-the-number-of-civilian-firearms.-plot-the--US-in-a-different-color\" data-toc-modified-id=\"plot-the-number-of--homicides-by-fire-arm-against-the-number-of-civilian-firearms.-plot-the--US-in-a-different-color-24\"><span class=\"toc-item-num\">2.4&nbsp;&nbsp;</span>plot the number of  homicides by fire arm against the number of civilian firearms. plot the  US in a different color</a></div><div class=\"lev2 toc-item\"><a href=\"#plot-the-number-of--mass-shootings-against-the-number-of-civilian-firearms.-plot-the--US-in-a-different-color\" data-toc-modified-id=\"plot-the-number-of--mass-shootings-against-the-number-of-civilian-firearms.-plot-the--US-in-a-different-color-25\"><span class=\"toc-item-num\">2.5&nbsp;&nbsp;</span>plot the number of  mass shootings against the number of civilian firearms. plot the  US in a different color</a></div><div class=\"lev1 toc-item\"><a href=\"#Modeling\" data-toc-modified-id=\"Modeling-3\"><span class=\"toc-item-num\">3&nbsp;&nbsp;</span>Modeling</a></div><div class=\"lev2 toc-item\"><a href=\"#fit-a-line-to-the-Number-of-mass-shootings--per-person-as-a-function-of-Average-total-all-civilian-firearms-per-person.\" data-toc-modified-id=\"fit-a-line-to-the-Number-of-mass-shootings--per-person-as-a-function-of-Average-total-all-civilian-firearms-per-person.-31\"><span class=\"toc-item-num\">3.1&nbsp;&nbsp;</span>fit a line to the Number of mass shootings  per person as a function of Average total all civilian firearms per person.</a></div><div class=\"lev2 toc-item\"><a href=\"#Outlier-removal:\" data-toc-modified-id=\"Outlier-removal:-32\"><span class=\"toc-item-num\">3.2&nbsp;&nbsp;</span>Outlier removal:</a></div><div class=\"lev2 toc-item\"><a href=\"#Extra-credit:-calculate-the-confidence-interval-by-hand-and-also-plot-them\" data-toc-modified-id=\"Extra-credit:-calculate-the-confidence-interval-by-hand-and-also-plot-them-33\"><span class=\"toc-item-num\">3.3&nbsp;&nbsp;</span>Extra credit: calculate the confidence interval by hand and also plot them</a></div><div class=\"lev2 toc-item\"><a href=\"#Use-the-stsatsmodels.gaphics-package-to-plot-the-influence-plot.\" data-toc-modified-id=\"Use-the-stsatsmodels.gaphics-package-to-plot-the-influence-plot.-34\"><span class=\"toc-item-num\">3.4&nbsp;&nbsp;</span>Use the stsatsmodels.gaphics package to plot the influence plot.</a></div><div class=\"lev2 toc-item\"><a href=\"#Extra-credit:-calculate-from-scratch-the-stanrdardized-residuals-and-the-H-leverage-for-the-WLS-model-and-discuss-if-there-are-any-differences\" data-toc-modified-id=\"Extra-credit:-calculate-from-scratch-the-stanrdardized-residuals-and-the-H-leverage-for-the-WLS-model-and-discuss-if-there-are-any-differences-35\"><span class=\"toc-item-num\">3.5&nbsp;&nbsp;</span>Extra credit: calculate from scratch the stanrdardized residuals and the H leverage for the WLS model and discuss if there are any differences</a></div><div class=\"lev2 toc-item\"><a href=\"#Discuss-your-findings\" data-toc-modified-id=\"Discuss-your-findings-36\"><span class=\"toc-item-num\">3.6&nbsp;&nbsp;</span>Discuss your findings</a></div>"
   ]
  },
  {
   "cell_type": "markdown",
   "metadata": {
    "run_control": {
     "frozen": false,
     "read_only": false
    }
   },
   "source": [
    "**regression exercise**\n",
    "\n",
    "**written by Federica B Bianco CUSP 2017**\n",
    "\n",
    "**for PUI lecture on models and linear regression**"
   ]
  },
  {
   "cell_type": "markdown",
   "metadata": {
    "run_control": {
     "frozen": false,
     "read_only": false
    }
   },
   "source": [
    "**investigate linear relationships between fire arm possession, homicides by fire arms, and mass shootings for different countries, considering also the country GDP**"
   ]
  },
  {
   "cell_type": "markdown",
   "metadata": {
    "run_control": {
     "frozen": false,
     "read_only": false
    }
   },
   "source": [
    "# DATA: \n",
    "\n",
    "The Guardian firearms murders and ownership data. The relevans sheet is uploaded in the github repository as a csv file. Download it from there. Note: this dataset is from 2012.\n",
    "\n",
    "**Extra credit**: download directly from google docs with a google API\n",
    "\n",
    "https://docs.google.com/spreadsheets/d/1chqUZHuY6cXYrRYkuE0uwXisGaYvr7durZHJhpLGycs/edit#gid=0\n",
    "\n",
    "Number of mass shootings: find the link here https://datawrapper.dwcdn.net/pvLFI/4/\n",
    "\n",
    "The world population by country find the download link here :\n",
    "https://data.worldbank.org/indicator/SP.POP.TOTL\n",
    "\n",
    "Remember that all read or downloads have to me reproducible.\n",
    "\n",
    "Merge all datasets. After throwing away the irrelevant data it should look something like this (I renamed the GDP and the population as gdp\" and \"pop\")\n",
    "\n",
    "Throughout, when I ask you to include errors in plots or models, use Poisson statistics: the error is the square root of the number you are considering (e.g. this country has N fire arms +/- square root of N, or this country has Np [= N/population +/- (square root of N) / population] fire arms per person)."
   ]
  },
  {
   "cell_type": "code",
   "execution_count": 1,
   "metadata": {},
   "outputs": [
    {
     "name": "stdout",
     "output_type": "stream",
     "text": [
      "Populating the interactive namespace from numpy and matplotlib\n"
     ]
    },
    {
     "name": "stderr",
     "output_type": "stream",
     "text": [
      "/usr/local/Anaconda3-5.0.0-Linux-x86_64/envs/PUI2016_Python3/lib/python3.5/site-packages/IPython/html.py:14: ShimWarning: The `IPython.html` package has been deprecated. You should import from `notebook` instead. `IPython.html.widgets` has moved to `ipywidgets`.\n",
      "  \"`IPython.html.widgets` has moved to `ipywidgets`.\", ShimWarning)\n"
     ]
    }
   ],
   "source": [
    "import os\n",
    "import numpy as np\n",
    "import pandas as pd\n",
    "import pylab as pl\n",
    "import statsmodels.api as sm\n",
    "import seaborn as sns\n",
    "import statsmodels.formula.api as smf\n",
    "try:\n",
    "    import urllib2 as urllib\n",
    "except ImportError:\n",
    "    import urllib.request as urllib\n",
    "%pylab inline"
   ]
  },
  {
   "cell_type": "code",
   "execution_count": 2,
   "metadata": {},
   "outputs": [
    {
     "data": {
      "text/plain": [
       "'/nfshome/ml4922/PUIdata'"
      ]
     },
     "execution_count": 2,
     "metadata": {},
     "output_type": "execute_result"
    }
   ],
   "source": [
    "os.getenv(\"PUIDATA\")"
   ]
  },
  {
   "cell_type": "code",
   "execution_count": null,
   "metadata": {},
   "outputs": [],
   "source": [
    "# download direct from google docs\n",
    "url=\"https://docs.google.com/spreadsheets/d/1chqUZHuY6cXYrRYkuE0uwXisGaYvr7durZHJhpLGycs/export?format=csv\"\n",
    "urllib.urlretrieve(url, \"firearm.csv\")\n",
    "!mv firearm.csv $PUIDATA"
   ]
  },
  {
   "cell_type": "code",
   "execution_count": 3,
   "metadata": {},
   "outputs": [],
   "source": [
    "url='https://raw.githubusercontent.com/fedhere/PUI2018_fb55/master/HW9_fb55/World%20firearms%20murders%20and%20ownership%20-%20Sheet%201.csv'\n",
    "urllib.urlretrieve(url, \"worldfirearm.csv\")\n",
    "!mv worldfirearm.csv $PUIDATA"
   ]
  },
  {
   "cell_type": "code",
   "execution_count": 4,
   "metadata": {},
   "outputs": [
    {
     "data": {
      "text/html": [
       "<div>\n",
       "<table border=\"1\" class=\"dataframe\">\n",
       "  <thead>\n",
       "    <tr style=\"text-align: right;\">\n",
       "      <th></th>\n",
       "      <th>Country/Territory</th>\n",
       "      <th>ISO code</th>\n",
       "      <th>Source</th>\n",
       "      <th>% of homicides by firearm</th>\n",
       "      <th>Number of homicides by firearm</th>\n",
       "      <th>Homicide by firearm rate per 100,000 pop</th>\n",
       "      <th>Rank by rate of ownership</th>\n",
       "      <th>Average firearms per 100 people</th>\n",
       "      <th>Average total all civilian firearms</th>\n",
       "    </tr>\n",
       "  </thead>\n",
       "  <tbody>\n",
       "    <tr>\n",
       "      <th>0</th>\n",
       "      <td>Albania</td>\n",
       "      <td>AL</td>\n",
       "      <td>CTS</td>\n",
       "      <td>65.9</td>\n",
       "      <td>56.0</td>\n",
       "      <td>1.76</td>\n",
       "      <td>70.0</td>\n",
       "      <td>8.6</td>\n",
       "      <td>270000.0</td>\n",
       "    </tr>\n",
       "    <tr>\n",
       "      <th>1</th>\n",
       "      <td>Algeria</td>\n",
       "      <td>DZ</td>\n",
       "      <td>CTS</td>\n",
       "      <td>4.8</td>\n",
       "      <td>20.0</td>\n",
       "      <td>0.06</td>\n",
       "      <td>78.0</td>\n",
       "      <td>7.6</td>\n",
       "      <td>1900000.0</td>\n",
       "    </tr>\n",
       "    <tr>\n",
       "      <th>2</th>\n",
       "      <td>Angola</td>\n",
       "      <td>AO</td>\n",
       "      <td>NaN</td>\n",
       "      <td>NaN</td>\n",
       "      <td>NaN</td>\n",
       "      <td>NaN</td>\n",
       "      <td>34.0</td>\n",
       "      <td>17.3</td>\n",
       "      <td>2800000.0</td>\n",
       "    </tr>\n",
       "    <tr>\n",
       "      <th>3</th>\n",
       "      <td>Anguilla</td>\n",
       "      <td>AI</td>\n",
       "      <td>WHO-MDB</td>\n",
       "      <td>24.0</td>\n",
       "      <td>1.0</td>\n",
       "      <td>7.14</td>\n",
       "      <td>NaN</td>\n",
       "      <td>NaN</td>\n",
       "      <td>NaN</td>\n",
       "    </tr>\n",
       "    <tr>\n",
       "      <th>4</th>\n",
       "      <td>Argentina</td>\n",
       "      <td>AR</td>\n",
       "      <td>Ministry of Justice</td>\n",
       "      <td>52.0</td>\n",
       "      <td>1198.0</td>\n",
       "      <td>3.02</td>\n",
       "      <td>62.0</td>\n",
       "      <td>10.2</td>\n",
       "      <td>3950000.0</td>\n",
       "    </tr>\n",
       "  </tbody>\n",
       "</table>\n",
       "</div>"
      ],
      "text/plain": [
       "  Country/Territory ISO code               Source  % of homicides by firearm  \\\n",
       "0           Albania       AL                  CTS                       65.9   \n",
       "1           Algeria       DZ                  CTS                        4.8   \n",
       "2            Angola       AO                  NaN                        NaN   \n",
       "3          Anguilla       AI              WHO-MDB                       24.0   \n",
       "4         Argentina       AR  Ministry of Justice                       52.0   \n",
       "\n",
       "   Number of homicides by firearm  Homicide by firearm rate per 100,000 pop  \\\n",
       "0                            56.0                                      1.76   \n",
       "1                            20.0                                      0.06   \n",
       "2                             NaN                                       NaN   \n",
       "3                             1.0                                      7.14   \n",
       "4                          1198.0                                      3.02   \n",
       "\n",
       "   Rank by rate of ownership  Average firearms per 100 people  \\\n",
       "0                       70.0                              8.6   \n",
       "1                       78.0                              7.6   \n",
       "2                       34.0                             17.3   \n",
       "3                        NaN                              NaN   \n",
       "4                       62.0                             10.2   \n",
       "\n",
       "   Average total all civilian firearms  \n",
       "0                             270000.0  \n",
       "1                            1900000.0  \n",
       "2                            2800000.0  \n",
       "3                                  NaN  \n",
       "4                            3950000.0  "
      ]
     },
     "execution_count": 4,
     "metadata": {},
     "output_type": "execute_result"
    }
   ],
   "source": [
    "worldfirearm=pd.read_csv(os.getenv(\"PUIDATA\") + \"/worldfirearm.csv\")\n",
    "worldfirearm.head()"
   ]
  },
  {
   "cell_type": "code",
   "execution_count": 5,
   "metadata": {},
   "outputs": [
    {
     "data": {
      "text/html": [
       "<div>\n",
       "<table border=\"1\" class=\"dataframe\">\n",
       "  <thead>\n",
       "    <tr style=\"text-align: right;\">\n",
       "      <th></th>\n",
       "      <th>Country Name</th>\n",
       "      <th>Number of homicides by firearm</th>\n",
       "      <th>Average total all civilian firearms</th>\n",
       "    </tr>\n",
       "  </thead>\n",
       "  <tbody>\n",
       "    <tr>\n",
       "      <th>0</th>\n",
       "      <td>Albania</td>\n",
       "      <td>56.0</td>\n",
       "      <td>270000.0</td>\n",
       "    </tr>\n",
       "    <tr>\n",
       "      <th>1</th>\n",
       "      <td>Algeria</td>\n",
       "      <td>20.0</td>\n",
       "      <td>1900000.0</td>\n",
       "    </tr>\n",
       "    <tr>\n",
       "      <th>2</th>\n",
       "      <td>Angola</td>\n",
       "      <td>NaN</td>\n",
       "      <td>2800000.0</td>\n",
       "    </tr>\n",
       "    <tr>\n",
       "      <th>3</th>\n",
       "      <td>Anguilla</td>\n",
       "      <td>1.0</td>\n",
       "      <td>NaN</td>\n",
       "    </tr>\n",
       "    <tr>\n",
       "      <th>4</th>\n",
       "      <td>Argentina</td>\n",
       "      <td>1198.0</td>\n",
       "      <td>3950000.0</td>\n",
       "    </tr>\n",
       "  </tbody>\n",
       "</table>\n",
       "</div>"
      ],
      "text/plain": [
       "  Country Name  Number of homicides by firearm  \\\n",
       "0      Albania                            56.0   \n",
       "1      Algeria                            20.0   \n",
       "2       Angola                             NaN   \n",
       "3     Anguilla                             1.0   \n",
       "4    Argentina                          1198.0   \n",
       "\n",
       "   Average total all civilian firearms  \n",
       "0                             270000.0  \n",
       "1                            1900000.0  \n",
       "2                            2800000.0  \n",
       "3                                  NaN  \n",
       "4                            3950000.0  "
      ]
     },
     "execution_count": 5,
     "metadata": {},
     "output_type": "execute_result"
    }
   ],
   "source": [
    "worldfirearm.drop(['ISO code', 'Source', '% of homicides by firearm', 'Homicide by firearm rate per 100,000 pop',\n",
    "                   'Rank by rate of ownership', 'Average firearms per 100 people'], axis = 1, inplace = True)\n",
    "worldfirearm.rename(columns={'Country/Territory':\"Country Name\"}, inplace=True)\n",
    "worldfirearm.head()"
   ]
  },
  {
   "cell_type": "code",
   "execution_count": 6,
   "metadata": {},
   "outputs": [],
   "source": [
    "url='data:application/octet-stream;charset=utf-8,Country%2CGuns%20per%20100%20inhabitants%2CNumber%20of%20mass%20shootings%20(1983-2013)%0AAustralia%2C15%2C4%0AAustria%2C30.4%2C1%0ABelgium%2C17.2%2C2%0ACanada%2C30.8%2C4%0ADenmark%2C12%2C0%0AFinland%2C45.3%2C2%0AFrance%2C31.2%2C6%0AGermany%2C30.3%2C7%0AGreece%2C22.5%2C0%0AHolland%2C3.9%2C2%0AHungary%2C5.5%2C0%0AIceland%2C30.3%2C0%0AIreland%2C8.6%2C0%0AItaly%2C11.9%2C0%0AJapan%2C0.6%2C0%0ALuxembourg%2C15.3%2C0%0ANew%20Zealand%2C22.6%2C3%0ANorway%2C31.3%2C1%0APoland%2C1.3%2C0%0APortugal%2C8.5%2C1%0ASpain%2C10.4%2C1%0ASweden%2C31.6%2C2%0ASwitzerland%2C45.7%2C2%0AUnited%20Kingdom%2C6.2%2C3%0AUnited%20States%2C88.8%2C78'\n",
    "urllib.urlretrieve(url, \"numbermass.csv\")\n",
    "!mv numbermass.csv $PUIDATA"
   ]
  },
  {
   "cell_type": "code",
   "execution_count": 7,
   "metadata": {},
   "outputs": [
    {
     "data": {
      "text/html": [
       "<div>\n",
       "<table border=\"1\" class=\"dataframe\">\n",
       "  <thead>\n",
       "    <tr style=\"text-align: right;\">\n",
       "      <th></th>\n",
       "      <th>Country</th>\n",
       "      <th>Guns per 100 inhabitants</th>\n",
       "      <th>Number of mass shootings (1983-2013)</th>\n",
       "    </tr>\n",
       "  </thead>\n",
       "  <tbody>\n",
       "    <tr>\n",
       "      <th>0</th>\n",
       "      <td>Australia</td>\n",
       "      <td>15.0</td>\n",
       "      <td>4</td>\n",
       "    </tr>\n",
       "    <tr>\n",
       "      <th>1</th>\n",
       "      <td>Austria</td>\n",
       "      <td>30.4</td>\n",
       "      <td>1</td>\n",
       "    </tr>\n",
       "    <tr>\n",
       "      <th>2</th>\n",
       "      <td>Belgium</td>\n",
       "      <td>17.2</td>\n",
       "      <td>2</td>\n",
       "    </tr>\n",
       "    <tr>\n",
       "      <th>3</th>\n",
       "      <td>Canada</td>\n",
       "      <td>30.8</td>\n",
       "      <td>4</td>\n",
       "    </tr>\n",
       "    <tr>\n",
       "      <th>4</th>\n",
       "      <td>Denmark</td>\n",
       "      <td>12.0</td>\n",
       "      <td>0</td>\n",
       "    </tr>\n",
       "  </tbody>\n",
       "</table>\n",
       "</div>"
      ],
      "text/plain": [
       "     Country  Guns per 100 inhabitants  Number of mass shootings (1983-2013)\n",
       "0  Australia                      15.0                                     4\n",
       "1    Austria                      30.4                                     1\n",
       "2    Belgium                      17.2                                     2\n",
       "3     Canada                      30.8                                     4\n",
       "4    Denmark                      12.0                                     0"
      ]
     },
     "execution_count": 7,
     "metadata": {},
     "output_type": "execute_result"
    }
   ],
   "source": [
    "massshooting = pd.read_csv(os.getenv(\"PUIDATA\") + \"/numbermass.csv\")\n",
    "massshooting.dropna(inplace=True)\n",
    "massshooting.head()"
   ]
  },
  {
   "cell_type": "code",
   "execution_count": 8,
   "metadata": {},
   "outputs": [
    {
     "data": {
      "text/html": [
       "<div>\n",
       "<table border=\"1\" class=\"dataframe\">\n",
       "  <thead>\n",
       "    <tr style=\"text-align: right;\">\n",
       "      <th></th>\n",
       "      <th>Country</th>\n",
       "      <th>Guns/100 inhabitants</th>\n",
       "      <th>Number of mass shootings</th>\n",
       "    </tr>\n",
       "  </thead>\n",
       "  <tbody>\n",
       "    <tr>\n",
       "      <th>0</th>\n",
       "      <td>Australia</td>\n",
       "      <td>15.0</td>\n",
       "      <td>4</td>\n",
       "    </tr>\n",
       "    <tr>\n",
       "      <th>1</th>\n",
       "      <td>Austria</td>\n",
       "      <td>30.4</td>\n",
       "      <td>1</td>\n",
       "    </tr>\n",
       "    <tr>\n",
       "      <th>2</th>\n",
       "      <td>Belgium</td>\n",
       "      <td>17.2</td>\n",
       "      <td>2</td>\n",
       "    </tr>\n",
       "    <tr>\n",
       "      <th>3</th>\n",
       "      <td>Canada</td>\n",
       "      <td>30.8</td>\n",
       "      <td>4</td>\n",
       "    </tr>\n",
       "    <tr>\n",
       "      <th>4</th>\n",
       "      <td>Denmark</td>\n",
       "      <td>12.0</td>\n",
       "      <td>0</td>\n",
       "    </tr>\n",
       "  </tbody>\n",
       "</table>\n",
       "</div>"
      ],
      "text/plain": [
       "     Country  Guns/100 inhabitants  Number of mass shootings\n",
       "0  Australia                  15.0                         4\n",
       "1    Austria                  30.4                         1\n",
       "2    Belgium                  17.2                         2\n",
       "3     Canada                  30.8                         4\n",
       "4    Denmark                  12.0                         0"
      ]
     },
     "execution_count": 8,
     "metadata": {},
     "output_type": "execute_result"
    }
   ],
   "source": [
    "massshooting.rename(columns={\"Guns per 100 inhabitants\": \"Guns/100 inhabitants\", \n",
    "                             \"Number of mass shootings (1983-2013)\": \"Number of mass shootings\"}, inplace=True)\n",
    "massshooting.head()"
   ]
  },
  {
   "cell_type": "code",
   "execution_count": 6,
   "metadata": {},
   "outputs": [
    {
     "name": "stdout",
     "output_type": "stream",
     "text": [
      "Archive:  GDP.zip\n",
      "  inflating: /nfshome/ml4922/PUIdata/GDP/Metadata_Indicator_API_NY.GDP.MKTP.CD_DS2_en_csv_v2_10203569.csv  \n",
      "  inflating: /nfshome/ml4922/PUIdata/GDP/API_NY.GDP.MKTP.CD_DS2_en_csv_v2_10203569.csv  \n",
      "  inflating: /nfshome/ml4922/PUIdata/GDP/Metadata_Country_API_NY.GDP.MKTP.CD_DS2_en_csv_v2_10203569.csv  \n"
     ]
    }
   ],
   "source": [
    "url='http://api.worldbank.org/v2/en/indicator/NY.GDP.MKTP.CD?downloadformat=csv'\n",
    "urllib.urlretrieve(url, 'GDP.zip')\n",
    "!unzip GDP.zip -d $PUIDATA/GDP\n",
    "!rm -f GDP.zip"
   ]
  },
  {
   "cell_type": "code",
   "execution_count": 9,
   "metadata": {},
   "outputs": [
    {
     "data": {
      "text/html": [
       "<div>\n",
       "<table border=\"1\" class=\"dataframe\">\n",
       "  <thead>\n",
       "    <tr style=\"text-align: right;\">\n",
       "      <th></th>\n",
       "      <th>Country Name</th>\n",
       "      <th>Country Code</th>\n",
       "      <th>Indicator Name</th>\n",
       "      <th>Indicator Code</th>\n",
       "      <th>1960</th>\n",
       "      <th>1961</th>\n",
       "      <th>1962</th>\n",
       "      <th>1963</th>\n",
       "      <th>1964</th>\n",
       "      <th>1965</th>\n",
       "      <th>...</th>\n",
       "      <th>2009</th>\n",
       "      <th>2010</th>\n",
       "      <th>2011</th>\n",
       "      <th>2012</th>\n",
       "      <th>2013</th>\n",
       "      <th>2014</th>\n",
       "      <th>2015</th>\n",
       "      <th>2016</th>\n",
       "      <th>2017</th>\n",
       "      <th>Unnamed: 62</th>\n",
       "    </tr>\n",
       "  </thead>\n",
       "  <tbody>\n",
       "    <tr>\n",
       "      <th>0</th>\n",
       "      <td>Aruba</td>\n",
       "      <td>ABW</td>\n",
       "      <td>GDP (current US$)</td>\n",
       "      <td>NY.GDP.MKTP.CD</td>\n",
       "      <td>NaN</td>\n",
       "      <td>NaN</td>\n",
       "      <td>NaN</td>\n",
       "      <td>NaN</td>\n",
       "      <td>NaN</td>\n",
       "      <td>NaN</td>\n",
       "      <td>...</td>\n",
       "      <td>2.498933e+09</td>\n",
       "      <td>2.467704e+09</td>\n",
       "      <td>2.584464e+09</td>\n",
       "      <td>NaN</td>\n",
       "      <td>NaN</td>\n",
       "      <td>NaN</td>\n",
       "      <td>NaN</td>\n",
       "      <td>NaN</td>\n",
       "      <td>NaN</td>\n",
       "      <td>NaN</td>\n",
       "    </tr>\n",
       "    <tr>\n",
       "      <th>1</th>\n",
       "      <td>Afghanistan</td>\n",
       "      <td>AFG</td>\n",
       "      <td>GDP (current US$)</td>\n",
       "      <td>NY.GDP.MKTP.CD</td>\n",
       "      <td>5.377778e+08</td>\n",
       "      <td>5.488889e+08</td>\n",
       "      <td>5.466667e+08</td>\n",
       "      <td>7.511112e+08</td>\n",
       "      <td>8.000000e+08</td>\n",
       "      <td>1.006667e+09</td>\n",
       "      <td>...</td>\n",
       "      <td>1.248694e+10</td>\n",
       "      <td>1.593680e+10</td>\n",
       "      <td>1.793024e+10</td>\n",
       "      <td>2.053654e+10</td>\n",
       "      <td>2.026425e+10</td>\n",
       "      <td>2.061610e+10</td>\n",
       "      <td>1.921556e+10</td>\n",
       "      <td>1.946902e+10</td>\n",
       "      <td>2.081530e+10</td>\n",
       "      <td>NaN</td>\n",
       "    </tr>\n",
       "    <tr>\n",
       "      <th>2</th>\n",
       "      <td>Angola</td>\n",
       "      <td>AGO</td>\n",
       "      <td>GDP (current US$)</td>\n",
       "      <td>NY.GDP.MKTP.CD</td>\n",
       "      <td>NaN</td>\n",
       "      <td>NaN</td>\n",
       "      <td>NaN</td>\n",
       "      <td>NaN</td>\n",
       "      <td>NaN</td>\n",
       "      <td>NaN</td>\n",
       "      <td>...</td>\n",
       "      <td>7.549239e+10</td>\n",
       "      <td>8.252614e+10</td>\n",
       "      <td>1.041158e+11</td>\n",
       "      <td>1.139232e+11</td>\n",
       "      <td>1.249125e+11</td>\n",
       "      <td>1.267302e+11</td>\n",
       "      <td>1.026212e+11</td>\n",
       "      <td>9.533720e+10</td>\n",
       "      <td>1.242094e+11</td>\n",
       "      <td>NaN</td>\n",
       "    </tr>\n",
       "    <tr>\n",
       "      <th>3</th>\n",
       "      <td>Albania</td>\n",
       "      <td>ALB</td>\n",
       "      <td>GDP (current US$)</td>\n",
       "      <td>NY.GDP.MKTP.CD</td>\n",
       "      <td>NaN</td>\n",
       "      <td>NaN</td>\n",
       "      <td>NaN</td>\n",
       "      <td>NaN</td>\n",
       "      <td>NaN</td>\n",
       "      <td>NaN</td>\n",
       "      <td>...</td>\n",
       "      <td>1.204421e+10</td>\n",
       "      <td>1.192695e+10</td>\n",
       "      <td>1.289087e+10</td>\n",
       "      <td>1.231978e+10</td>\n",
       "      <td>1.277628e+10</td>\n",
       "      <td>1.322824e+10</td>\n",
       "      <td>1.138693e+10</td>\n",
       "      <td>1.188368e+10</td>\n",
       "      <td>1.303935e+10</td>\n",
       "      <td>NaN</td>\n",
       "    </tr>\n",
       "    <tr>\n",
       "      <th>4</th>\n",
       "      <td>Andorra</td>\n",
       "      <td>AND</td>\n",
       "      <td>GDP (current US$)</td>\n",
       "      <td>NY.GDP.MKTP.CD</td>\n",
       "      <td>NaN</td>\n",
       "      <td>NaN</td>\n",
       "      <td>NaN</td>\n",
       "      <td>NaN</td>\n",
       "      <td>NaN</td>\n",
       "      <td>NaN</td>\n",
       "      <td>...</td>\n",
       "      <td>3.660531e+09</td>\n",
       "      <td>3.355695e+09</td>\n",
       "      <td>3.442063e+09</td>\n",
       "      <td>3.164615e+09</td>\n",
       "      <td>3.281585e+09</td>\n",
       "      <td>3.350736e+09</td>\n",
       "      <td>2.811489e+09</td>\n",
       "      <td>2.877312e+09</td>\n",
       "      <td>3.012914e+09</td>\n",
       "      <td>NaN</td>\n",
       "    </tr>\n",
       "  </tbody>\n",
       "</table>\n",
       "<p>5 rows × 63 columns</p>\n",
       "</div>"
      ],
      "text/plain": [
       "  Country Name Country Code     Indicator Name  Indicator Code          1960  \\\n",
       "0        Aruba          ABW  GDP (current US$)  NY.GDP.MKTP.CD           NaN   \n",
       "1  Afghanistan          AFG  GDP (current US$)  NY.GDP.MKTP.CD  5.377778e+08   \n",
       "2       Angola          AGO  GDP (current US$)  NY.GDP.MKTP.CD           NaN   \n",
       "3      Albania          ALB  GDP (current US$)  NY.GDP.MKTP.CD           NaN   \n",
       "4      Andorra          AND  GDP (current US$)  NY.GDP.MKTP.CD           NaN   \n",
       "\n",
       "           1961          1962          1963          1964          1965  \\\n",
       "0           NaN           NaN           NaN           NaN           NaN   \n",
       "1  5.488889e+08  5.466667e+08  7.511112e+08  8.000000e+08  1.006667e+09   \n",
       "2           NaN           NaN           NaN           NaN           NaN   \n",
       "3           NaN           NaN           NaN           NaN           NaN   \n",
       "4           NaN           NaN           NaN           NaN           NaN   \n",
       "\n",
       "      ...               2009          2010          2011          2012  \\\n",
       "0     ...       2.498933e+09  2.467704e+09  2.584464e+09           NaN   \n",
       "1     ...       1.248694e+10  1.593680e+10  1.793024e+10  2.053654e+10   \n",
       "2     ...       7.549239e+10  8.252614e+10  1.041158e+11  1.139232e+11   \n",
       "3     ...       1.204421e+10  1.192695e+10  1.289087e+10  1.231978e+10   \n",
       "4     ...       3.660531e+09  3.355695e+09  3.442063e+09  3.164615e+09   \n",
       "\n",
       "           2013          2014          2015          2016          2017  \\\n",
       "0           NaN           NaN           NaN           NaN           NaN   \n",
       "1  2.026425e+10  2.061610e+10  1.921556e+10  1.946902e+10  2.081530e+10   \n",
       "2  1.249125e+11  1.267302e+11  1.026212e+11  9.533720e+10  1.242094e+11   \n",
       "3  1.277628e+10  1.322824e+10  1.138693e+10  1.188368e+10  1.303935e+10   \n",
       "4  3.281585e+09  3.350736e+09  2.811489e+09  2.877312e+09  3.012914e+09   \n",
       "\n",
       "   Unnamed: 62  \n",
       "0          NaN  \n",
       "1          NaN  \n",
       "2          NaN  \n",
       "3          NaN  \n",
       "4          NaN  \n",
       "\n",
       "[5 rows x 63 columns]"
      ]
     },
     "execution_count": 9,
     "metadata": {},
     "output_type": "execute_result"
    }
   ],
   "source": [
    "GDP = pd.read_csv(os.getenv(\"PUIDATA\") +\"/GDP/API_NY.GDP.MKTP.CD_DS2_en_csv_v2_10203569.csv\", skiprows=1, header=1)\n",
    "GDP.head()"
   ]
  },
  {
   "cell_type": "code",
   "execution_count": 10,
   "metadata": {},
   "outputs": [
    {
     "data": {
      "text/html": [
       "<div>\n",
       "<table border=\"1\" class=\"dataframe\">\n",
       "  <thead>\n",
       "    <tr style=\"text-align: right;\">\n",
       "      <th></th>\n",
       "      <th>Country Name</th>\n",
       "      <th>GDP</th>\n",
       "    </tr>\n",
       "  </thead>\n",
       "  <tbody>\n",
       "    <tr>\n",
       "      <th>0</th>\n",
       "      <td>Aruba</td>\n",
       "      <td>NaN</td>\n",
       "    </tr>\n",
       "    <tr>\n",
       "      <th>1</th>\n",
       "      <td>Afghanistan</td>\n",
       "      <td>2.053654e+10</td>\n",
       "    </tr>\n",
       "    <tr>\n",
       "      <th>2</th>\n",
       "      <td>Angola</td>\n",
       "      <td>1.139232e+11</td>\n",
       "    </tr>\n",
       "    <tr>\n",
       "      <th>3</th>\n",
       "      <td>Albania</td>\n",
       "      <td>1.231978e+10</td>\n",
       "    </tr>\n",
       "    <tr>\n",
       "      <th>4</th>\n",
       "      <td>Andorra</td>\n",
       "      <td>3.164615e+09</td>\n",
       "    </tr>\n",
       "  </tbody>\n",
       "</table>\n",
       "</div>"
      ],
      "text/plain": [
       "  Country Name           GDP\n",
       "0        Aruba           NaN\n",
       "1  Afghanistan  2.053654e+10\n",
       "2       Angola  1.139232e+11\n",
       "3      Albania  1.231978e+10\n",
       "4      Andorra  3.164615e+09"
      ]
     },
     "execution_count": 10,
     "metadata": {},
     "output_type": "execute_result"
    }
   ],
   "source": [
    "GDP=GDP[['Country Name','2012']]\n",
    "GDP.rename(columns={ \"2012\": \"GDP\"}, inplace=True)\n",
    "GDP.head()"
   ]
  },
  {
   "cell_type": "code",
   "execution_count": 16,
   "metadata": {},
   "outputs": [
    {
     "name": "stdout",
     "output_type": "stream",
     "text": [
      "Archive:  population.zip\n",
      "  inflating: /nfshome/ml4922/PUIdata/Population/Metadata_Indicator_API_SP.POP.TOTL_DS2_en_csv_v2_10203548.csv  \n",
      "  inflating: /nfshome/ml4922/PUIdata/Population/API_SP.POP.TOTL_DS2_en_csv_v2_10203548.csv  \n",
      "  inflating: /nfshome/ml4922/PUIdata/Population/Metadata_Country_API_SP.POP.TOTL_DS2_en_csv_v2_10203548.csv  \n"
     ]
    }
   ],
   "source": [
    "url='http://api.worldbank.org/v2/en/indicator/SP.POP.TOTL?downloadformat=csv'\n",
    "urllib.urlretrieve(url, 'population.zip')\n",
    "!unzip population.zip -d $PUIDATA/Population\n",
    "!rm -f populstion.zip"
   ]
  },
  {
   "cell_type": "code",
   "execution_count": 11,
   "metadata": {},
   "outputs": [
    {
     "data": {
      "text/html": [
       "<div>\n",
       "<table border=\"1\" class=\"dataframe\">\n",
       "  <thead>\n",
       "    <tr style=\"text-align: right;\">\n",
       "      <th></th>\n",
       "      <th>Country Name</th>\n",
       "      <th>pop</th>\n",
       "    </tr>\n",
       "  </thead>\n",
       "  <tbody>\n",
       "    <tr>\n",
       "      <th>0</th>\n",
       "      <td>Aruba</td>\n",
       "      <td>102577.0</td>\n",
       "    </tr>\n",
       "    <tr>\n",
       "      <th>1</th>\n",
       "      <td>Afghanistan</td>\n",
       "      <td>30696958.0</td>\n",
       "    </tr>\n",
       "    <tr>\n",
       "      <th>2</th>\n",
       "      <td>Angola</td>\n",
       "      <td>25096150.0</td>\n",
       "    </tr>\n",
       "    <tr>\n",
       "      <th>3</th>\n",
       "      <td>Albania</td>\n",
       "      <td>2900401.0</td>\n",
       "    </tr>\n",
       "    <tr>\n",
       "      <th>4</th>\n",
       "      <td>Andorra</td>\n",
       "      <td>82431.0</td>\n",
       "    </tr>\n",
       "  </tbody>\n",
       "</table>\n",
       "</div>"
      ],
      "text/plain": [
       "  Country Name         pop\n",
       "0        Aruba    102577.0\n",
       "1  Afghanistan  30696958.0\n",
       "2       Angola  25096150.0\n",
       "3      Albania   2900401.0\n",
       "4      Andorra     82431.0"
      ]
     },
     "execution_count": 11,
     "metadata": {},
     "output_type": "execute_result"
    }
   ],
   "source": [
    "population = pd.read_csv(os.getenv(\"PUIDATA\") + \n",
    "                              \"/Population/API_SP.POP.TOTL_DS2_en_csv_v2_10203548.csv\", skiprows=1, header=1)\n",
    "population=population[['Country Name','2012']]\n",
    "population.rename(columns={ \"2012\": \"pop\"}, inplace=True)\n",
    "population.head()"
   ]
  },
  {
   "cell_type": "code",
   "execution_count": 12,
   "metadata": {},
   "outputs": [],
   "source": [
    "df=worldfirearm.merge(population)"
   ]
  },
  {
   "cell_type": "code",
   "execution_count": 13,
   "metadata": {},
   "outputs": [],
   "source": [
    "df2=df.merge(GDP, on='Country Name')"
   ]
  },
  {
   "cell_type": "code",
   "execution_count": 14,
   "metadata": {
    "ExecuteTime": {
     "end_time": "2017-10-12T11:18:40.575581",
     "start_time": "2017-10-12T11:18:40.446116"
    },
    "run_control": {
     "frozen": false,
     "read_only": false
    }
   },
   "outputs": [
    {
     "data": {
      "text/html": [
       "<div>\n",
       "<table border=\"1\" class=\"dataframe\">\n",
       "  <thead>\n",
       "    <tr style=\"text-align: right;\">\n",
       "      <th></th>\n",
       "      <th>Country Name</th>\n",
       "      <th>Number of homicides by firearm</th>\n",
       "      <th>Average total all civilian firearms</th>\n",
       "      <th>pop</th>\n",
       "      <th>GDP</th>\n",
       "      <th>Country</th>\n",
       "      <th>Guns/100 inhabitants</th>\n",
       "      <th>Number of mass shootings</th>\n",
       "    </tr>\n",
       "  </thead>\n",
       "  <tbody>\n",
       "    <tr>\n",
       "      <th>0</th>\n",
       "      <td>Australia</td>\n",
       "      <td>30.0</td>\n",
       "      <td>3050000.0</td>\n",
       "      <td>22742475.0</td>\n",
       "      <td>1.543411e+12</td>\n",
       "      <td>Australia</td>\n",
       "      <td>15.0</td>\n",
       "      <td>4</td>\n",
       "    </tr>\n",
       "    <tr>\n",
       "      <th>1</th>\n",
       "      <td>Austria</td>\n",
       "      <td>18.0</td>\n",
       "      <td>2500000.0</td>\n",
       "      <td>8429991.0</td>\n",
       "      <td>4.094252e+11</td>\n",
       "      <td>Austria</td>\n",
       "      <td>30.4</td>\n",
       "      <td>1</td>\n",
       "    </tr>\n",
       "    <tr>\n",
       "      <th>2</th>\n",
       "      <td>Belgium</td>\n",
       "      <td>70.0</td>\n",
       "      <td>1800000.0</td>\n",
       "      <td>11128246.0</td>\n",
       "      <td>4.978842e+11</td>\n",
       "      <td>Belgium</td>\n",
       "      <td>17.2</td>\n",
       "      <td>2</td>\n",
       "    </tr>\n",
       "    <tr>\n",
       "      <th>3</th>\n",
       "      <td>Canada</td>\n",
       "      <td>173.0</td>\n",
       "      <td>9950000.0</td>\n",
       "      <td>34750545.0</td>\n",
       "      <td>1.824289e+12</td>\n",
       "      <td>Canada</td>\n",
       "      <td>30.8</td>\n",
       "      <td>4</td>\n",
       "    </tr>\n",
       "    <tr>\n",
       "      <th>4</th>\n",
       "      <td>Denmark</td>\n",
       "      <td>15.0</td>\n",
       "      <td>650000.0</td>\n",
       "      <td>5591572.0</td>\n",
       "      <td>3.271489e+11</td>\n",
       "      <td>Denmark</td>\n",
       "      <td>12.0</td>\n",
       "      <td>0</td>\n",
       "    </tr>\n",
       "  </tbody>\n",
       "</table>\n",
       "</div>"
      ],
      "text/plain": [
       "  Country Name  Number of homicides by firearm  \\\n",
       "0    Australia                            30.0   \n",
       "1      Austria                            18.0   \n",
       "2      Belgium                            70.0   \n",
       "3       Canada                           173.0   \n",
       "4      Denmark                            15.0   \n",
       "\n",
       "   Average total all civilian firearms         pop           GDP    Country  \\\n",
       "0                            3050000.0  22742475.0  1.543411e+12  Australia   \n",
       "1                            2500000.0   8429991.0  4.094252e+11    Austria   \n",
       "2                            1800000.0  11128246.0  4.978842e+11    Belgium   \n",
       "3                            9950000.0  34750545.0  1.824289e+12     Canada   \n",
       "4                             650000.0   5591572.0  3.271489e+11    Denmark   \n",
       "\n",
       "   Guns/100 inhabitants  Number of mass shootings  \n",
       "0                  15.0                         4  \n",
       "1                  30.4                         1  \n",
       "2                  17.2                         2  \n",
       "3                  30.8                         4  \n",
       "4                  12.0                         0  "
      ]
     },
     "execution_count": 14,
     "metadata": {},
     "output_type": "execute_result"
    }
   ],
   "source": [
    "df_ = df2.merge(massshooting, right_on=\"Country\", left_on=\"Country Name\")\n",
    "df_.head()"
   ]
  },
  {
   "cell_type": "markdown",
   "metadata": {
    "run_control": {
     "frozen": false,
     "read_only": false
    }
   },
   "source": [
    "# exploration\n",
    "\n",
    "## 2.1 plot mass shooting vs gdp in absolute numbers, and per person. Show the errorbars (y errors)\n",
    "\n",
    "Use Poisson statistics for the errorbars on the number of mass shootings (optional: include errors on the population, also as Poisson statistics)\n",
    "\n",
    "Are there any points that look like they may be outilers?\n"
   ]
  },
  {
   "cell_type": "markdown",
   "metadata": {},
   "source": [
    "## mass shooting vs gdp in absolute numbers"
   ]
  },
  {
   "cell_type": "code",
   "execution_count": 110,
   "metadata": {
    "ExecuteTime": {
     "end_time": "2017-10-12T11:24:38.210994",
     "start_time": "2017-10-12T11:24:37.927232"
    },
    "run_control": {
     "frozen": false,
     "read_only": false
    }
   },
   "outputs": [
    {
     "name": "stderr",
     "output_type": "stream",
     "text": [
      "/usr/local/Anaconda3-5.0.0-Linux-x86_64/envs/PUI2016_Python3/lib/python3.5/site-packages/matplotlib/font_manager.py:1316: UserWarning: findfont: Font family ['sans-serif'] not found. Falling back to DejaVu Sans\n",
      "  (prop.get_family(), self.defaultFamily[fontext]))\n"
     ]
    },
    {
     "data": {
      "image/png": "[encoded data removed]",
      "text/plain": [
       "<matplotlib.figure.Figure at 0x7f81c73b33c8>"
      ]
     },
     "metadata": {},
     "output_type": "display_data"
    },
    {
     "name": "stdout",
     "output_type": "stream",
     "text": [
      "Number of mass shooting vs GDP, errors represent Poisson statistics.\n",
      "The datapoint to the top right of the plot is the USA, which has both the highest GDP and the highest number of mass shootings\n"
     ]
    }
   ],
   "source": [
    "fig = pl.figure(figsize=(10,6)) \n",
    "ax = fig.add_subplot(111)\n",
    "\n",
    "scatter = ax.scatter(df_.GDP / 1e9, df_['Number of mass shootings'])\n",
    "ax.errorbar(df_.GDP / 1e9, df_['Number of mass shootings'], \n",
    "            yerr = np.sqrt(df_['Number of mass shootings'] * 1.0), fmt = '.')\n",
    "ax.set_xlabel(\"GDP (in billions)\")\n",
    "ax.set_ylabel(\"Number of mass shooting\")\n",
    "ax.set_ylim()\n",
    "pl.show()\n",
    "print (\"Number of mass shooting vs GDP, \" + \n",
    "       \"errors represent Poisson statistics.\\n\" + \n",
    "       \"The datapoint to the top right of the plot is the USA, \" + \n",
    "       \"which has both the highest GDP and the highest number of mass shootings\")"
   ]
  },
  {
   "cell_type": "markdown",
   "metadata": {},
   "source": [
    "## mass shooting vs gdp per person"
   ]
  },
  {
   "cell_type": "code",
   "execution_count": 16,
   "metadata": {},
   "outputs": [],
   "source": [
    "df_['gdppp'] = df_.GDP / df_['pop'].astype(float)"
   ]
  },
  {
   "cell_type": "markdown",
   "metadata": {},
   "source": [
    "### without errors"
   ]
  },
  {
   "cell_type": "code",
   "execution_count": 109,
   "metadata": {},
   "outputs": [
    {
     "name": "stderr",
     "output_type": "stream",
     "text": [
      "/usr/local/Anaconda3-5.0.0-Linux-x86_64/envs/PUI2016_Python3/lib/python3.5/site-packages/matplotlib/font_manager.py:1316: UserWarning: findfont: Font family ['sans-serif'] not found. Falling back to DejaVu Sans\n",
      "  (prop.get_family(), self.defaultFamily[fontext]))\n"
     ]
    },
    {
     "data": {
      "image/png": "[encoded data removed]",
      "text/plain": [
       "<matplotlib.figure.Figure at 0x7f81c738ce10>"
      ]
     },
     "metadata": {},
     "output_type": "display_data"
    }
   ],
   "source": [
    "fig = pl.figure(figsize=(10,6)) \n",
    "ax = fig.add_subplot(111)\n",
    "\n",
    "scatter = ax.scatter(df_.gdppp, df_['Number of mass shootings'])\n",
    "ax.set_xlabel(\"GDP per person\")\n",
    "ax.set_ylabel(\"Number of mass shooting\")\n",
    "ax.set_ylim()\n",
    "pl.show()"
   ]
  },
  {
   "cell_type": "markdown",
   "metadata": {},
   "source": [
    "### with errors"
   ]
  },
  {
   "cell_type": "code",
   "execution_count": 111,
   "metadata": {},
   "outputs": [
    {
     "name": "stderr",
     "output_type": "stream",
     "text": [
      "/usr/local/Anaconda3-5.0.0-Linux-x86_64/envs/PUI2016_Python3/lib/python3.5/site-packages/matplotlib/font_manager.py:1316: UserWarning: findfont: Font family ['sans-serif'] not found. Falling back to DejaVu Sans\n",
      "  (prop.get_family(), self.defaultFamily[fontext]))\n"
     ]
    },
    {
     "data": {
      "image/png": "[encoded data removed]",
      "text/plain": [
       "<matplotlib.figure.Figure at 0x7f81c731a278>"
      ]
     },
     "metadata": {},
     "output_type": "display_data"
    },
    {
     "name": "stdout",
     "output_type": "stream",
     "text": [
      "Number of mass shooting vs GDP per person, errors represent Poisson statistics.\n",
      "The datapoint to the top MIDDLE of the plot is the USA, which has highest number of mass shootings.\n"
     ]
    }
   ],
   "source": [
    "fig = pl.figure(figsize=(10,6)) \n",
    "ax = fig.add_subplot(111)\n",
    "\n",
    "scatter = ax.scatter(df_.gdppp, df_['Number of mass shootings'])\n",
    "ax.errorbar(df_.gdppp, df_['Number of mass shootings'], \n",
    "            yerr = np.sqrt(df_['Number of mass shootings'] * 1.0), fmt = '.')\n",
    "ax.set_xlabel(\"GDP per person\")\n",
    "ax.set_ylabel(\"Number of mass shooting\")\n",
    "ax.set_ylim()\n",
    "pl.show()\n",
    "print (\"Number of mass shooting vs GDP per person, \" + \n",
    "       \"errors represent Poisson statistics.\\n\" + \n",
    "       \"The datapoint to the top MIDDLE of the plot is the USA, \" + \n",
    "       \"which has highest number of mass shootings.\")"
   ]
  },
  {
   "cell_type": "markdown",
   "metadata": {},
   "source": [
    "## mass shooting per person vs gdp"
   ]
  },
  {
   "cell_type": "code",
   "execution_count": 27,
   "metadata": {
    "ExecuteTime": {
     "end_time": "2017-10-12T07:17:52.778486",
     "start_time": "2017-10-12T07:17:52.768299"
    },
    "run_control": {
     "frozen": false,
     "read_only": false
    }
   },
   "outputs": [],
   "source": [
    "df_['shootingspp'] = df_[\"Number of mass shootings\"] / df_['pop'] * 1e3"
   ]
  },
  {
   "cell_type": "markdown",
   "metadata": {},
   "source": [
    "## Without errors"
   ]
  },
  {
   "cell_type": "code",
   "execution_count": 112,
   "metadata": {},
   "outputs": [
    {
     "name": "stderr",
     "output_type": "stream",
     "text": [
      "/usr/local/Anaconda3-5.0.0-Linux-x86_64/envs/PUI2016_Python3/lib/python3.5/site-packages/matplotlib/font_manager.py:1316: UserWarning: findfont: Font family ['sans-serif'] not found. Falling back to DejaVu Sans\n",
      "  (prop.get_family(), self.defaultFamily[fontext]))\n"
     ]
    },
    {
     "data": {
      "image/png": "[encoded data removed]",
      "text/plain": [
       "<matplotlib.figure.Figure at 0x7f81c73937b8>"
      ]
     },
     "metadata": {},
     "output_type": "display_data"
    }
   ],
   "source": [
    "fig = pl.figure(figsize=(10,6)) \n",
    "ax = fig.add_subplot(111)\n",
    "\n",
    "scatter = ax.scatter(df_.GDP / 1e9, df_['shootingspp'])\n",
    "ax.set_xlabel(\"GDP (in billions)\")\n",
    "ax.set_ylabel(\"Number of mass shooting per person\")\n",
    "ax.set_ylim()\n",
    "pl.show()"
   ]
  },
  {
   "cell_type": "markdown",
   "metadata": {},
   "source": [
    "## With errors"
   ]
  },
  {
   "cell_type": "code",
   "execution_count": 113,
   "metadata": {},
   "outputs": [
    {
     "name": "stderr",
     "output_type": "stream",
     "text": [
      "/usr/local/Anaconda3-5.0.0-Linux-x86_64/envs/PUI2016_Python3/lib/python3.5/site-packages/matplotlib/font_manager.py:1316: UserWarning: findfont: Font family ['sans-serif'] not found. Falling back to DejaVu Sans\n",
      "  (prop.get_family(), self.defaultFamily[fontext]))\n"
     ]
    },
    {
     "data": {
      "image/png": "[encoded data removed]",
      "text/plain": [
       "<matplotlib.figure.Figure at 0x7f81cc189d30>"
      ]
     },
     "metadata": {},
     "output_type": "display_data"
    },
    {
     "name": "stdout",
     "output_type": "stream",
     "text": [
      "Number of mass shooting per person vs GDP, errors represent Poisson statistics.\n",
      "The datapoint to the right of the plot is the USA, which has both the highest GDP.\n"
     ]
    }
   ],
   "source": [
    "fig = pl.figure(figsize=(10,6)) \n",
    "ax = fig.add_subplot(111)\n",
    "\n",
    "scatter = ax.scatter(df_.GDP / 1e9, df_['shootingspp'])\n",
    "ax.errorbar(df_.GDP, df_['shootingspp'], \n",
    "            yerr = np.sqrt(df_['shootingspp'] * 1.0), fmt = '.')\n",
    "ax.set_xlabel(\"GDP (in billions)\")\n",
    "ax.set_ylabel(\"Number of mass shooting per person\")\n",
    "ax.set_ylim()\n",
    "pl.show()\n",
    "print (\"Number of mass shooting per person vs GDP, \" + \n",
    "       \"errors represent Poisson statistics.\\n\" + \n",
    "       \"The datapoint to the right of the plot is the USA, \" + \n",
    "       \"which has both the highest GDP.\")"
   ]
  },
  {
   "cell_type": "markdown",
   "metadata": {},
   "source": [
    "## 2.2 plot the average number of civilian fire arms per person\n",
    "first without errors, then with errors. are there  points that look like outliers?"
   ]
  },
  {
   "cell_type": "code",
   "execution_count": 30,
   "metadata": {},
   "outputs": [],
   "source": [
    "df_['firearmspp'] = df_[\"Average total all civilian firearms\"] / df_['pop']"
   ]
  },
  {
   "cell_type": "markdown",
   "metadata": {},
   "source": [
    "### without errors"
   ]
  },
  {
   "cell_type": "code",
   "execution_count": 31,
   "metadata": {},
   "outputs": [
    {
     "name": "stderr",
     "output_type": "stream",
     "text": [
      "/usr/local/Anaconda3-5.0.0-Linux-x86_64/envs/PUI2016_Python3/lib/python3.5/site-packages/matplotlib/font_manager.py:1316: UserWarning: findfont: Font family ['sans-serif'] not found. Falling back to DejaVu Sans\n",
      "  (prop.get_family(), self.defaultFamily[fontext]))\n"
     ]
    },
    {
     "data": {
      "image/png": "[encoded data removed]",
      "text/plain": [
       "<matplotlib.figure.Figure at 0x7f81cd40e4a8>"
      ]
     },
     "metadata": {},
     "output_type": "display_data"
    }
   ],
   "source": [
    "fig = pl.figure(figsize=(10,5)) \n",
    "ax = fig.add_subplot(111)\n",
    "\n",
    "scatter = ax.scatter(df_.GDP / 1e9, df_['firearmspp'])\n",
    "#ax.errorbar(df_.GDP, df_['firearmspp'], \n",
    "#            yerr = np.sqrt(df_['firearmspp'] * 1.0), fmt = '.')\n",
    "ax.set_xlabel(\"GDP (in billions)\")\n",
    "ax.set_ylabel(\"Average number of civilian fire arms per person\")\n",
    "ax.set_ylim()\n",
    "pl.show()"
   ]
  },
  {
   "cell_type": "markdown",
   "metadata": {},
   "source": [
    "### with errors"
   ]
  },
  {
   "cell_type": "code",
   "execution_count": 32,
   "metadata": {},
   "outputs": [
    {
     "name": "stderr",
     "output_type": "stream",
     "text": [
      "/usr/local/Anaconda3-5.0.0-Linux-x86_64/envs/PUI2016_Python3/lib/python3.5/site-packages/matplotlib/font_manager.py:1316: UserWarning: findfont: Font family ['sans-serif'] not found. Falling back to DejaVu Sans\n",
      "  (prop.get_family(), self.defaultFamily[fontext]))\n"
     ]
    },
    {
     "data": {
      "image/png": "[encoded data removed]",
      "text/plain": [
       "<matplotlib.figure.Figure at 0x7f81cd435978>"
      ]
     },
     "metadata": {},
     "output_type": "display_data"
    },
    {
     "name": "stdout",
     "output_type": "stream",
     "text": [
      "The average number of civilian fire arms per person vs GDP, errors represent Poisson statistics.\n",
      "The datapoint to the right of the plot is the USA, which has both the highest GDP.\n"
     ]
    }
   ],
   "source": [
    "fig = pl.figure(figsize=(10,5)) \n",
    "ax = fig.add_subplot(111)\n",
    "\n",
    "scatter = ax.scatter(df_.GDP / 1e9, df_['firearmspp'])\n",
    "ax.errorbar(df_.GDP, df_['firearmspp'], \n",
    "            yerr = np.sqrt(df_['firearmspp'] * 1.0), fmt = '.')\n",
    "ax.set_xlabel(\"GDP (in billions)\")\n",
    "ax.set_ylabel(\"Average number of civilian fire arms per person\")\n",
    "ax.set_ylim()\n",
    "pl.show()\n",
    "print (\"The average number of civilian fire arms per person vs GDP, \" + \n",
    "       \"errors represent Poisson statistics.\\n\" + \n",
    "       \"The datapoint to the right of the plot is the USA, \" + \n",
    "       \"which has both the highest GDP.\")"
   ]
  },
  {
   "cell_type": "markdown",
   "metadata": {
    "run_control": {
     "frozen": false,
     "read_only": false
    }
   },
   "source": [
    "## 2.3 plot the average number of homicide by fire arms per person\n",
    "first as a histogram\n",
    "\n",
    "then against the country GDP, with statistical errors. are there  points that look like outliers?"
   ]
  },
  {
   "cell_type": "code",
   "execution_count": 33,
   "metadata": {
    "ExecuteTime": {
     "end_time": "2017-10-12T07:53:17.910541",
     "start_time": "2017-10-12T07:53:17.506477"
    },
    "run_control": {
     "frozen": false,
     "read_only": false
    }
   },
   "outputs": [
    {
     "name": "stderr",
     "output_type": "stream",
     "text": [
      "/usr/local/Anaconda3-5.0.0-Linux-x86_64/envs/PUI2016_Python3/lib/python3.5/site-packages/matplotlib/font_manager.py:1316: UserWarning: findfont: Font family ['sans-serif'] not found. Falling back to DejaVu Sans\n",
      "  (prop.get_family(), self.defaultFamily[fontext]))\n"
     ]
    },
    {
     "data": {
      "image/png": "[encoded data removed]",
      "text/plain": [
       "<matplotlib.figure.Figure at 0x7f81cd391f98>"
      ]
     },
     "metadata": {},
     "output_type": "display_data"
    }
   ],
   "source": [
    "fig, ax = plt.subplots()\n",
    "ax.hist(df_['Number of homicides by firearm'] / df_['pop'] * 1000)\n",
    "ax.set_xlabel('homicides by firearm per 1000 people');"
   ]
  },
  {
   "cell_type": "code",
   "execution_count": 34,
   "metadata": {},
   "outputs": [],
   "source": [
    "df_['homicidespp'] = df_['Number of homicides by firearm'] / df_['pop'] * 1000"
   ]
  },
  {
   "cell_type": "code",
   "execution_count": 35,
   "metadata": {},
   "outputs": [
    {
     "name": "stderr",
     "output_type": "stream",
     "text": [
      "/usr/local/Anaconda3-5.0.0-Linux-x86_64/envs/PUI2016_Python3/lib/python3.5/site-packages/matplotlib/font_manager.py:1316: UserWarning: findfont: Font family ['sans-serif'] not found. Falling back to DejaVu Sans\n",
      "  (prop.get_family(), self.defaultFamily[fontext]))\n"
     ]
    },
    {
     "data": {
      "image/png": "[encoded data removed]",
      "text/plain": [
       "<matplotlib.figure.Figure at 0x7f81cd356518>"
      ]
     },
     "metadata": {},
     "output_type": "display_data"
    },
    {
     "name": "stdout",
     "output_type": "stream",
     "text": [
      "The average number of homicide by fire arms per person vs GDP, errors represent Poisson statistics.\n",
      "The datapoint to the right of the plot is the USA, which has both the highest GDP.\n"
     ]
    }
   ],
   "source": [
    "fig = pl.figure(figsize=(10,5)) \n",
    "ax = fig.add_subplot(111)\n",
    "\n",
    "scatter = ax.scatter(df_.GDP / 1e9, df_['homicidespp'])\n",
    "ax.errorbar(df_.GDP / 1e9, df_['homicidespp'], \n",
    "            yerr = np.sqrt(df_['homicidespp'] * 1.0), fmt = '.')\n",
    "ax.set_xlabel(\"GDP (in billions)\")\n",
    "ax.set_ylabel(\"Number of homicides by firearm per person\")\n",
    "ax.set_ylim()\n",
    "pl.show()\n",
    "print (\"The average number of homicide by fire arms per person vs GDP, \" + \n",
    "       \"errors represent Poisson statistics.\\n\" + \n",
    "       \"The datapoint to the right of the plot is the USA, \" + \n",
    "       \"which has both the highest GDP.\")"
   ]
  },
  {
   "cell_type": "markdown",
   "metadata": {
    "run_control": {
     "frozen": false,
     "read_only": false
    }
   },
   "source": [
    "## 2.4 plot the number of  homicides by fire arm against the number of civilian firearms. plot the  US in a different color\n",
    "with and without errorbars\n"
   ]
  },
  {
   "cell_type": "code",
   "execution_count": 36,
   "metadata": {},
   "outputs": [
    {
     "data": {
      "text/html": [
       "<div>\n",
       "<table border=\"1\" class=\"dataframe\">\n",
       "  <thead>\n",
       "    <tr style=\"text-align: right;\">\n",
       "      <th></th>\n",
       "      <th>Country Name</th>\n",
       "      <th>Number of homicides by firearm</th>\n",
       "      <th>Average total all civilian firearms</th>\n",
       "      <th>pop</th>\n",
       "      <th>GDP</th>\n",
       "      <th>Country</th>\n",
       "      <th>Guns/100 inhabitants</th>\n",
       "      <th>Number of mass shootings</th>\n",
       "      <th>gdppp</th>\n",
       "      <th>shootingspp</th>\n",
       "      <th>firearmspp</th>\n",
       "      <th>homicidespp</th>\n",
       "    </tr>\n",
       "  </thead>\n",
       "  <tbody>\n",
       "    <tr>\n",
       "      <th>0</th>\n",
       "      <td>Australia</td>\n",
       "      <td>30.0</td>\n",
       "      <td>3050000.0</td>\n",
       "      <td>22742475.0</td>\n",
       "      <td>1.543411e+12</td>\n",
       "      <td>Australia</td>\n",
       "      <td>15.0</td>\n",
       "      <td>4</td>\n",
       "      <td>67864.689862</td>\n",
       "      <td>0.000176</td>\n",
       "      <td>0.134110</td>\n",
       "      <td>0.001319</td>\n",
       "    </tr>\n",
       "    <tr>\n",
       "      <th>1</th>\n",
       "      <td>Austria</td>\n",
       "      <td>18.0</td>\n",
       "      <td>2500000.0</td>\n",
       "      <td>8429991.0</td>\n",
       "      <td>4.094252e+11</td>\n",
       "      <td>Austria</td>\n",
       "      <td>30.4</td>\n",
       "      <td>1</td>\n",
       "      <td>48567.695286</td>\n",
       "      <td>0.000119</td>\n",
       "      <td>0.296560</td>\n",
       "      <td>0.002135</td>\n",
       "    </tr>\n",
       "    <tr>\n",
       "      <th>2</th>\n",
       "      <td>Belgium</td>\n",
       "      <td>70.0</td>\n",
       "      <td>1800000.0</td>\n",
       "      <td>11128246.0</td>\n",
       "      <td>4.978842e+11</td>\n",
       "      <td>Belgium</td>\n",
       "      <td>17.2</td>\n",
       "      <td>2</td>\n",
       "      <td>44740.583248</td>\n",
       "      <td>0.000180</td>\n",
       "      <td>0.161751</td>\n",
       "      <td>0.006290</td>\n",
       "    </tr>\n",
       "    <tr>\n",
       "      <th>3</th>\n",
       "      <td>Canada</td>\n",
       "      <td>173.0</td>\n",
       "      <td>9950000.0</td>\n",
       "      <td>34750545.0</td>\n",
       "      <td>1.824289e+12</td>\n",
       "      <td>Canada</td>\n",
       "      <td>30.8</td>\n",
       "      <td>4</td>\n",
       "      <td>52496.694870</td>\n",
       "      <td>0.000115</td>\n",
       "      <td>0.286326</td>\n",
       "      <td>0.004978</td>\n",
       "    </tr>\n",
       "    <tr>\n",
       "      <th>4</th>\n",
       "      <td>Denmark</td>\n",
       "      <td>15.0</td>\n",
       "      <td>650000.0</td>\n",
       "      <td>5591572.0</td>\n",
       "      <td>3.271489e+11</td>\n",
       "      <td>Denmark</td>\n",
       "      <td>12.0</td>\n",
       "      <td>0</td>\n",
       "      <td>58507.500210</td>\n",
       "      <td>0.000000</td>\n",
       "      <td>0.116246</td>\n",
       "      <td>0.002683</td>\n",
       "    </tr>\n",
       "    <tr>\n",
       "      <th>5</th>\n",
       "      <td>Finland</td>\n",
       "      <td>24.0</td>\n",
       "      <td>2400000.0</td>\n",
       "      <td>5413971.0</td>\n",
       "      <td>2.567065e+11</td>\n",
       "      <td>Finland</td>\n",
       "      <td>45.3</td>\n",
       "      <td>2</td>\n",
       "      <td>47415.559871</td>\n",
       "      <td>0.000369</td>\n",
       "      <td>0.443298</td>\n",
       "      <td>0.004433</td>\n",
       "    </tr>\n",
       "    <tr>\n",
       "      <th>6</th>\n",
       "      <td>France</td>\n",
       "      <td>35.0</td>\n",
       "      <td>19000000.0</td>\n",
       "      <td>65659789.0</td>\n",
       "      <td>2.683825e+12</td>\n",
       "      <td>France</td>\n",
       "      <td>31.2</td>\n",
       "      <td>6</td>\n",
       "      <td>40874.715956</td>\n",
       "      <td>0.000091</td>\n",
       "      <td>0.289370</td>\n",
       "      <td>0.000533</td>\n",
       "    </tr>\n",
       "    <tr>\n",
       "      <th>7</th>\n",
       "      <td>Germany</td>\n",
       "      <td>158.0</td>\n",
       "      <td>25000000.0</td>\n",
       "      <td>80425823.0</td>\n",
       "      <td>3.543984e+12</td>\n",
       "      <td>Germany</td>\n",
       "      <td>30.3</td>\n",
       "      <td>7</td>\n",
       "      <td>44065.248908</td>\n",
       "      <td>0.000087</td>\n",
       "      <td>0.310845</td>\n",
       "      <td>0.001965</td>\n",
       "    </tr>\n",
       "    <tr>\n",
       "      <th>8</th>\n",
       "      <td>Greece</td>\n",
       "      <td>29.0</td>\n",
       "      <td>2500000.0</td>\n",
       "      <td>11045011.0</td>\n",
       "      <td>2.456707e+11</td>\n",
       "      <td>Greece</td>\n",
       "      <td>22.5</td>\n",
       "      <td>0</td>\n",
       "      <td>22242.681935</td>\n",
       "      <td>0.000000</td>\n",
       "      <td>0.226347</td>\n",
       "      <td>0.002626</td>\n",
       "    </tr>\n",
       "    <tr>\n",
       "      <th>9</th>\n",
       "      <td>Hungary</td>\n",
       "      <td>7.0</td>\n",
       "      <td>560000.0</td>\n",
       "      <td>9920362.0</td>\n",
       "      <td>1.278566e+11</td>\n",
       "      <td>Hungary</td>\n",
       "      <td>5.5</td>\n",
       "      <td>0</td>\n",
       "      <td>12888.304591</td>\n",
       "      <td>0.000000</td>\n",
       "      <td>0.056450</td>\n",
       "      <td>0.000706</td>\n",
       "    </tr>\n",
       "    <tr>\n",
       "      <th>10</th>\n",
       "      <td>Iceland</td>\n",
       "      <td>0.0</td>\n",
       "      <td>90000.0</td>\n",
       "      <td>320716.0</td>\n",
       "      <td>1.429201e+10</td>\n",
       "      <td>Iceland</td>\n",
       "      <td>30.3</td>\n",
       "      <td>0</td>\n",
       "      <td>44562.818024</td>\n",
       "      <td>0.000000</td>\n",
       "      <td>0.280622</td>\n",
       "      <td>0.000000</td>\n",
       "    </tr>\n",
       "    <tr>\n",
       "      <th>11</th>\n",
       "      <td>Ireland</td>\n",
       "      <td>21.0</td>\n",
       "      <td>360000.0</td>\n",
       "      <td>4599533.0</td>\n",
       "      <td>2.255719e+11</td>\n",
       "      <td>Ireland</td>\n",
       "      <td>8.6</td>\n",
       "      <td>0</td>\n",
       "      <td>49042.338254</td>\n",
       "      <td>0.000000</td>\n",
       "      <td>0.078269</td>\n",
       "      <td>0.004566</td>\n",
       "    </tr>\n",
       "    <tr>\n",
       "      <th>12</th>\n",
       "      <td>Italy</td>\n",
       "      <td>417.0</td>\n",
       "      <td>7000000.0</td>\n",
       "      <td>59539717.0</td>\n",
       "      <td>2.072823e+12</td>\n",
       "      <td>Italy</td>\n",
       "      <td>11.9</td>\n",
       "      <td>0</td>\n",
       "      <td>34814.125117</td>\n",
       "      <td>0.000000</td>\n",
       "      <td>0.117569</td>\n",
       "      <td>0.007004</td>\n",
       "    </tr>\n",
       "    <tr>\n",
       "      <th>13</th>\n",
       "      <td>Japan</td>\n",
       "      <td>11.0</td>\n",
       "      <td>710000.0</td>\n",
       "      <td>127629000.0</td>\n",
       "      <td>6.203213e+12</td>\n",
       "      <td>Japan</td>\n",
       "      <td>0.6</td>\n",
       "      <td>0</td>\n",
       "      <td>48603.476650</td>\n",
       "      <td>0.000000</td>\n",
       "      <td>0.005563</td>\n",
       "      <td>0.000086</td>\n",
       "    </tr>\n",
       "    <tr>\n",
       "      <th>14</th>\n",
       "      <td>Luxembourg</td>\n",
       "      <td>3.0</td>\n",
       "      <td>70000.0</td>\n",
       "      <td>530946.0</td>\n",
       "      <td>5.667796e+10</td>\n",
       "      <td>Luxembourg</td>\n",
       "      <td>15.3</td>\n",
       "      <td>0</td>\n",
       "      <td>106749.013623</td>\n",
       "      <td>0.000000</td>\n",
       "      <td>0.131840</td>\n",
       "      <td>0.005650</td>\n",
       "    </tr>\n",
       "    <tr>\n",
       "      <th>15</th>\n",
       "      <td>New Zealand</td>\n",
       "      <td>7.0</td>\n",
       "      <td>925000.0</td>\n",
       "      <td>4408100.0</td>\n",
       "      <td>1.761929e+11</td>\n",
       "      <td>New Zealand</td>\n",
       "      <td>22.6</td>\n",
       "      <td>3</td>\n",
       "      <td>39970.256245</td>\n",
       "      <td>0.000681</td>\n",
       "      <td>0.209841</td>\n",
       "      <td>0.001588</td>\n",
       "    </tr>\n",
       "    <tr>\n",
       "      <th>16</th>\n",
       "      <td>Norway</td>\n",
       "      <td>2.0</td>\n",
       "      <td>1400000.0</td>\n",
       "      <td>5018573.0</td>\n",
       "      <td>5.102291e+11</td>\n",
       "      <td>Norway</td>\n",
       "      <td>31.3</td>\n",
       "      <td>1</td>\n",
       "      <td>101668.170659</td>\n",
       "      <td>0.000199</td>\n",
       "      <td>0.278964</td>\n",
       "      <td>0.000399</td>\n",
       "    </tr>\n",
       "    <tr>\n",
       "      <th>17</th>\n",
       "      <td>Poland</td>\n",
       "      <td>35.0</td>\n",
       "      <td>510000.0</td>\n",
       "      <td>38063164.0</td>\n",
       "      <td>5.003608e+11</td>\n",
       "      <td>Poland</td>\n",
       "      <td>1.3</td>\n",
       "      <td>0</td>\n",
       "      <td>13145.539263</td>\n",
       "      <td>0.000000</td>\n",
       "      <td>0.013399</td>\n",
       "      <td>0.000920</td>\n",
       "    </tr>\n",
       "    <tr>\n",
       "      <th>18</th>\n",
       "      <td>Portugal</td>\n",
       "      <td>44.0</td>\n",
       "      <td>900000.0</td>\n",
       "      <td>10514844.0</td>\n",
       "      <td>2.163682e+11</td>\n",
       "      <td>Portugal</td>\n",
       "      <td>8.5</td>\n",
       "      <td>1</td>\n",
       "      <td>20577.402638</td>\n",
       "      <td>0.000095</td>\n",
       "      <td>0.085593</td>\n",
       "      <td>0.004185</td>\n",
       "    </tr>\n",
       "    <tr>\n",
       "      <th>19</th>\n",
       "      <td>Spain</td>\n",
       "      <td>90.0</td>\n",
       "      <td>4500000.0</td>\n",
       "      <td>46773055.0</td>\n",
       "      <td>1.336019e+12</td>\n",
       "      <td>Spain</td>\n",
       "      <td>10.4</td>\n",
       "      <td>1</td>\n",
       "      <td>28563.859038</td>\n",
       "      <td>0.000021</td>\n",
       "      <td>0.096209</td>\n",
       "      <td>0.001924</td>\n",
       "    </tr>\n",
       "    <tr>\n",
       "      <th>20</th>\n",
       "      <td>Sweden</td>\n",
       "      <td>37.0</td>\n",
       "      <td>2800000.0</td>\n",
       "      <td>9519374.0</td>\n",
       "      <td>5.438806e+11</td>\n",
       "      <td>Sweden</td>\n",
       "      <td>31.6</td>\n",
       "      <td>2</td>\n",
       "      <td>57134.077068</td>\n",
       "      <td>0.000210</td>\n",
       "      <td>0.294137</td>\n",
       "      <td>0.003887</td>\n",
       "    </tr>\n",
       "    <tr>\n",
       "      <th>21</th>\n",
       "      <td>Switzerland</td>\n",
       "      <td>57.0</td>\n",
       "      <td>3400000.0</td>\n",
       "      <td>7996861.0</td>\n",
       "      <td>6.680436e+11</td>\n",
       "      <td>Switzerland</td>\n",
       "      <td>45.7</td>\n",
       "      <td>2</td>\n",
       "      <td>83538.230078</td>\n",
       "      <td>0.000250</td>\n",
       "      <td>0.425167</td>\n",
       "      <td>0.007128</td>\n",
       "    </tr>\n",
       "    <tr>\n",
       "      <th>22</th>\n",
       "      <td>United States</td>\n",
       "      <td>9146.0</td>\n",
       "      <td>270000000.0</td>\n",
       "      <td>313993272.0</td>\n",
       "      <td>1.615526e+13</td>\n",
       "      <td>United States</td>\n",
       "      <td>88.8</td>\n",
       "      <td>78</td>\n",
       "      <td>51450.959115</td>\n",
       "      <td>0.000248</td>\n",
       "      <td>0.859891</td>\n",
       "      <td>0.029128</td>\n",
       "    </tr>\n",
       "  </tbody>\n",
       "</table>\n",
       "</div>"
      ],
      "text/plain": [
       "     Country Name  Number of homicides by firearm  \\\n",
       "0       Australia                            30.0   \n",
       "1         Austria                            18.0   \n",
       "2         Belgium                            70.0   \n",
       "3          Canada                           173.0   \n",
       "4         Denmark                            15.0   \n",
       "5         Finland                            24.0   \n",
       "6          France                            35.0   \n",
       "7         Germany                           158.0   \n",
       "8          Greece                            29.0   \n",
       "9         Hungary                             7.0   \n",
       "10        Iceland                             0.0   \n",
       "11        Ireland                            21.0   \n",
       "12          Italy                           417.0   \n",
       "13          Japan                            11.0   \n",
       "14     Luxembourg                             3.0   \n",
       "15    New Zealand                             7.0   \n",
       "16         Norway                             2.0   \n",
       "17         Poland                            35.0   \n",
       "18       Portugal                            44.0   \n",
       "19          Spain                            90.0   \n",
       "20         Sweden                            37.0   \n",
       "21    Switzerland                            57.0   \n",
       "22  United States                          9146.0   \n",
       "\n",
       "    Average total all civilian firearms          pop           GDP  \\\n",
       "0                             3050000.0   22742475.0  1.543411e+12   \n",
       "1                             2500000.0    8429991.0  4.094252e+11   \n",
       "2                             1800000.0   11128246.0  4.978842e+11   \n",
       "3                             9950000.0   34750545.0  1.824289e+12   \n",
       "4                              650000.0    5591572.0  3.271489e+11   \n",
       "5                             2400000.0    5413971.0  2.567065e+11   \n",
       "6                            19000000.0   65659789.0  2.683825e+12   \n",
       "7                            25000000.0   80425823.0  3.543984e+12   \n",
       "8                             2500000.0   11045011.0  2.456707e+11   \n",
       "9                              560000.0    9920362.0  1.278566e+11   \n",
       "10                              90000.0     320716.0  1.429201e+10   \n",
       "11                             360000.0    4599533.0  2.255719e+11   \n",
       "12                            7000000.0   59539717.0  2.072823e+12   \n",
       "13                             710000.0  127629000.0  6.203213e+12   \n",
       "14                              70000.0     530946.0  5.667796e+10   \n",
       "15                             925000.0    4408100.0  1.761929e+11   \n",
       "16                            1400000.0    5018573.0  5.102291e+11   \n",
       "17                             510000.0   38063164.0  5.003608e+11   \n",
       "18                             900000.0   10514844.0  2.163682e+11   \n",
       "19                            4500000.0   46773055.0  1.336019e+12   \n",
       "20                            2800000.0    9519374.0  5.438806e+11   \n",
       "21                            3400000.0    7996861.0  6.680436e+11   \n",
       "22                          270000000.0  313993272.0  1.615526e+13   \n",
       "\n",
       "          Country  Guns/100 inhabitants  Number of mass shootings  \\\n",
       "0       Australia                  15.0                         4   \n",
       "1         Austria                  30.4                         1   \n",
       "2         Belgium                  17.2                         2   \n",
       "3          Canada                  30.8                         4   \n",
       "4         Denmark                  12.0                         0   \n",
       "5         Finland                  45.3                         2   \n",
       "6          France                  31.2                         6   \n",
       "7         Germany                  30.3                         7   \n",
       "8          Greece                  22.5                         0   \n",
       "9         Hungary                   5.5                         0   \n",
       "10        Iceland                  30.3                         0   \n",
       "11        Ireland                   8.6                         0   \n",
       "12          Italy                  11.9                         0   \n",
       "13          Japan                   0.6                         0   \n",
       "14     Luxembourg                  15.3                         0   \n",
       "15    New Zealand                  22.6                         3   \n",
       "16         Norway                  31.3                         1   \n",
       "17         Poland                   1.3                         0   \n",
       "18       Portugal                   8.5                         1   \n",
       "19          Spain                  10.4                         1   \n",
       "20         Sweden                  31.6                         2   \n",
       "21    Switzerland                  45.7                         2   \n",
       "22  United States                  88.8                        78   \n",
       "\n",
       "            gdppp  shootingspp  firearmspp  homicidespp  \n",
       "0    67864.689862     0.000176    0.134110     0.001319  \n",
       "1    48567.695286     0.000119    0.296560     0.002135  \n",
       "2    44740.583248     0.000180    0.161751     0.006290  \n",
       "3    52496.694870     0.000115    0.286326     0.004978  \n",
       "4    58507.500210     0.000000    0.116246     0.002683  \n",
       "5    47415.559871     0.000369    0.443298     0.004433  \n",
       "6    40874.715956     0.000091    0.289370     0.000533  \n",
       "7    44065.248908     0.000087    0.310845     0.001965  \n",
       "8    22242.681935     0.000000    0.226347     0.002626  \n",
       "9    12888.304591     0.000000    0.056450     0.000706  \n",
       "10   44562.818024     0.000000    0.280622     0.000000  \n",
       "11   49042.338254     0.000000    0.078269     0.004566  \n",
       "12   34814.125117     0.000000    0.117569     0.007004  \n",
       "13   48603.476650     0.000000    0.005563     0.000086  \n",
       "14  106749.013623     0.000000    0.131840     0.005650  \n",
       "15   39970.256245     0.000681    0.209841     0.001588  \n",
       "16  101668.170659     0.000199    0.278964     0.000399  \n",
       "17   13145.539263     0.000000    0.013399     0.000920  \n",
       "18   20577.402638     0.000095    0.085593     0.004185  \n",
       "19   28563.859038     0.000021    0.096209     0.001924  \n",
       "20   57134.077068     0.000210    0.294137     0.003887  \n",
       "21   83538.230078     0.000250    0.425167     0.007128  \n",
       "22   51450.959115     0.000248    0.859891     0.029128  "
      ]
     },
     "execution_count": 36,
     "metadata": {},
     "output_type": "execute_result"
    }
   ],
   "source": [
    "df_"
   ]
  },
  {
   "cell_type": "code",
   "execution_count": 37,
   "metadata": {},
   "outputs": [
    {
     "name": "stderr",
     "output_type": "stream",
     "text": [
      "/usr/local/Anaconda3-5.0.0-Linux-x86_64/envs/PUI2016_Python3/lib/python3.5/site-packages/matplotlib/font_manager.py:1316: UserWarning: findfont: Font family ['sans-serif'] not found. Falling back to DejaVu Sans\n",
      "  (prop.get_family(), self.defaultFamily[fontext]))\n"
     ]
    },
    {
     "data": {
      "image/png": "[encoded data removed]",
      "text/plain": [
       "<matplotlib.figure.Figure at 0x7f81cd3c55f8>"
      ]
     },
     "metadata": {},
     "output_type": "display_data"
    }
   ],
   "source": [
    "fig = pl.figure(figsize=(10,6)) \n",
    "ax = fig.add_subplot(111)\n",
    "\n",
    "scatter = ax.scatter(df_['Number of homicides by firearm'], df_['Average total all civilian firearms']/1e5)\n",
    "ax.scatter(df_['Number of homicides by firearm'][22], df_['Average total all civilian firearms'][22]/1e5, c='red')\n",
    "ax.set_xlabel(\"Number of homicides by firearm\")\n",
    "ax.set_ylabel(\"Average total all civilian firearms unit(1e5)\")\n",
    "ax.set_ylim()\n",
    "pl.show()"
   ]
  },
  {
   "cell_type": "code",
   "execution_count": 38,
   "metadata": {},
   "outputs": [
    {
     "name": "stderr",
     "output_type": "stream",
     "text": [
      "/usr/local/Anaconda3-5.0.0-Linux-x86_64/envs/PUI2016_Python3/lib/python3.5/site-packages/matplotlib/font_manager.py:1316: UserWarning: findfont: Font family ['sans-serif'] not found. Falling back to DejaVu Sans\n",
      "  (prop.get_family(), self.defaultFamily[fontext]))\n"
     ]
    },
    {
     "data": {
      "image/png": "[encoded data removed]",
      "text/plain": [
       "<matplotlib.figure.Figure at 0x7f81d2055358>"
      ]
     },
     "metadata": {},
     "output_type": "display_data"
    }
   ],
   "source": [
    "fig = pl.figure(figsize=(10,6)) \n",
    "ax = fig.add_subplot(111)\n",
    "\n",
    "scatter = ax.scatter(df_['Number of homicides by firearm'], df_['Average total all civilian firearms']/1e5)\n",
    "ax.errorbar(df_['Number of homicides by firearm'], df_['Average total all civilian firearms']/1e5, \n",
    "            yerr = np.sqrt(df_['Average total all civilian firearms']/1e5 * 1.0), fmt = '.')\n",
    "ax.scatter(df_['Number of homicides by firearm'][22], df_['Average total all civilian firearms'][22]/1e5, c='red')\n",
    "ax.errorbar(df_['Number of homicides by firearm'][22], df_['Average total all civilian firearms'][22]/1e5, \n",
    "            yerr = np.sqrt(df_['Average total all civilian firearms'][22]/1e5 * 1.0), fmt = '.')\n",
    "ax.set_xlabel(\"Number of homicides by firearm\")\n",
    "ax.set_ylabel(\"Average total all civilian firearms unit(1e5)\")\n",
    "ax.set_ylim()\n",
    "pl.show()"
   ]
  },
  {
   "cell_type": "markdown",
   "metadata": {
    "run_control": {
     "frozen": false,
     "read_only": false
    }
   },
   "source": [
    "## 2.5 plot the number of  mass shootings against the number of civilian firearms. plot the  US in a different color\n",
    "with and without errorbars\n"
   ]
  },
  {
   "cell_type": "code",
   "execution_count": 39,
   "metadata": {},
   "outputs": [
    {
     "name": "stderr",
     "output_type": "stream",
     "text": [
      "/usr/local/Anaconda3-5.0.0-Linux-x86_64/envs/PUI2016_Python3/lib/python3.5/site-packages/matplotlib/font_manager.py:1316: UserWarning: findfont: Font family ['sans-serif'] not found. Falling back to DejaVu Sans\n",
      "  (prop.get_family(), self.defaultFamily[fontext]))\n"
     ]
    },
    {
     "data": {
      "image/png": "[encoded data removed]",
      "text/plain": [
       "<matplotlib.figure.Figure at 0x7f81d037e780>"
      ]
     },
     "metadata": {},
     "output_type": "display_data"
    }
   ],
   "source": [
    "fig = pl.figure(figsize=(10,6)) \n",
    "ax = fig.add_subplot(111)\n",
    "\n",
    "scatter = ax.scatter(df_['Number of mass shootings'], df_['Average total all civilian firearms']/1e5)\n",
    "ax.scatter(df_['Number of mass shootings'][22], df_['Average total all civilian firearms'][22]/1e5, c='red')\n",
    "ax.set_xlabel(\"Number of mass shootings\")\n",
    "ax.set_ylabel(\"Average total all civilian firearms unit(1e5)\")\n",
    "ax.set_ylim()\n",
    "pl.show()"
   ]
  },
  {
   "cell_type": "code",
   "execution_count": 40,
   "metadata": {},
   "outputs": [
    {
     "name": "stderr",
     "output_type": "stream",
     "text": [
      "/usr/local/Anaconda3-5.0.0-Linux-x86_64/envs/PUI2016_Python3/lib/python3.5/site-packages/matplotlib/font_manager.py:1316: UserWarning: findfont: Font family ['sans-serif'] not found. Falling back to DejaVu Sans\n",
      "  (prop.get_family(), self.defaultFamily[fontext]))\n"
     ]
    },
    {
     "data": {
      "image/png": "[encoded data removed]",
      "text/plain": [
       "<matplotlib.figure.Figure at 0x7f81d02436d8>"
      ]
     },
     "metadata": {},
     "output_type": "display_data"
    }
   ],
   "source": [
    "fig = pl.figure(figsize=(10,6)) \n",
    "ax = fig.add_subplot(111)\n",
    "\n",
    "scatter = ax.scatter(df_['Number of mass shootings'], df_['Average total all civilian firearms']/1e5)\n",
    "ax.errorbar(df_['Number of mass shootings'], df_['Average total all civilian firearms']/1e5, \n",
    "           yerr = np.sqrt(df_['Average total all civilian firearms']/1e5 * 1.0), fmt = '.')\n",
    "ax.scatter(df_['Number of mass shootings'][22], df_['Average total all civilian firearms'][22]/1e5, c='red')\n",
    "ax.errorbar(df_['Number of mass shootings'], df_['Average total all civilian firearms']/1e5, \n",
    "            yerr = np.sqrt(df_['Average total all civilian firearms'][22]/1e5 * 1.0), fmt = '.')\n",
    "ax.set_xlabel(\"Number of mass shootings\")\n",
    "ax.set_ylabel(\"Average total all civilian firearms unit(1e5)\")\n",
    "ax.set_ylim()\n",
    "pl.show()"
   ]
  },
  {
   "cell_type": "markdown",
   "metadata": {
    "run_control": {
     "frozen": false,
     "read_only": false
    }
   },
   "source": [
    "# Modeling\n",
    "\n",
    "## fit a line to the Number of mass shootings  per person as a function of Average total all civilian firearms per person. \n",
    "Before you do it it is a good idea to make sure that both quantities are roughly of the same order of magnitude (unity). (You can simply divide by the order of magnitude of the mean of the sample to obtain this). Use\n",
    "\n",
    "    - statsmodels OLS\n",
    "    - statsmodels WLS\n",
    "    - seaborn\n",
    "    - choose one of\n",
    "        -- creating a function that calculates the residuals and minimizing that function\n",
    "        -- analytical solution http://mathworld.wolfram.com/LeastSquaresFitting.html\n",
    "        -- numpy.polyfit() - https://docs.scipy.org/doc/numpy-1.13.0/reference/generated/numpy.polyfit.html\n",
    "    \n",
    "\n",
    "WLS: that is the weighted square fit. The statsmodel package WLS function allows you to take the uncertainties of each data point into account when you fit your model. It takes the parameter weights, which is the inverse of your errors:\n",
    "weights = 1.0/df.yerror\n",
    "Notice that \n",
    "    a - sqrt(0) = 0\n",
    "    b - 1/0 = infinity\n",
    "    c - you cannot have weight that are infinity in your fit. Please come up with a solution and justify it.\n",
    "\n",
    "\n",
    "the latter three you can learn about in this example: https://github.com/fedhere/PUI2017_fb55/blob/master/Lab5_fb55/genderIncomeBias.ipynb\n",
    "Since we did not discuss these, I will add some notes to the repo in the afternoon.\n",
    "\n",
    "Use the seaborn python package built in regression function  to plot the regression confidence intervals. \n",
    "\n",
    "import seaborn  as sns\n",
    "sns.regplot(x=\"x\", y=\"y\", data=df);\n",
    "\n",
    "\n"
   ]
  },
  {
   "cell_type": "code",
   "execution_count": 41,
   "metadata": {},
   "outputs": [],
   "source": [
    "df_['firearmspp'] = df_[\"Average total all civilian firearms\"] / df_['pop']\n",
    "df_['shootingspp'] = df_[\"Number of mass shootings\"] / df_['pop'] * 1e7"
   ]
  },
  {
   "cell_type": "code",
   "execution_count": 42,
   "metadata": {},
   "outputs": [
    {
     "data": {
      "text/html": [
       "<div>\n",
       "<table border=\"1\" class=\"dataframe\">\n",
       "  <thead>\n",
       "    <tr style=\"text-align: right;\">\n",
       "      <th></th>\n",
       "      <th>Country Name</th>\n",
       "      <th>Number of homicides by firearm</th>\n",
       "      <th>Average total all civilian firearms</th>\n",
       "      <th>pop</th>\n",
       "      <th>GDP</th>\n",
       "      <th>Country</th>\n",
       "      <th>Guns/100 inhabitants</th>\n",
       "      <th>Number of mass shootings</th>\n",
       "      <th>gdppp</th>\n",
       "      <th>shootingspp</th>\n",
       "      <th>firearmspp</th>\n",
       "      <th>homicidespp</th>\n",
       "    </tr>\n",
       "  </thead>\n",
       "  <tbody>\n",
       "    <tr>\n",
       "      <th>0</th>\n",
       "      <td>Australia</td>\n",
       "      <td>30.0</td>\n",
       "      <td>3050000.0</td>\n",
       "      <td>22742475.0</td>\n",
       "      <td>1.543411e+12</td>\n",
       "      <td>Australia</td>\n",
       "      <td>15.0</td>\n",
       "      <td>4</td>\n",
       "      <td>67864.689862</td>\n",
       "      <td>1.758824</td>\n",
       "      <td>0.134110</td>\n",
       "      <td>0.001319</td>\n",
       "    </tr>\n",
       "    <tr>\n",
       "      <th>1</th>\n",
       "      <td>Austria</td>\n",
       "      <td>18.0</td>\n",
       "      <td>2500000.0</td>\n",
       "      <td>8429991.0</td>\n",
       "      <td>4.094252e+11</td>\n",
       "      <td>Austria</td>\n",
       "      <td>30.4</td>\n",
       "      <td>1</td>\n",
       "      <td>48567.695286</td>\n",
       "      <td>1.186241</td>\n",
       "      <td>0.296560</td>\n",
       "      <td>0.002135</td>\n",
       "    </tr>\n",
       "    <tr>\n",
       "      <th>2</th>\n",
       "      <td>Belgium</td>\n",
       "      <td>70.0</td>\n",
       "      <td>1800000.0</td>\n",
       "      <td>11128246.0</td>\n",
       "      <td>4.978842e+11</td>\n",
       "      <td>Belgium</td>\n",
       "      <td>17.2</td>\n",
       "      <td>2</td>\n",
       "      <td>44740.583248</td>\n",
       "      <td>1.797228</td>\n",
       "      <td>0.161751</td>\n",
       "      <td>0.006290</td>\n",
       "    </tr>\n",
       "    <tr>\n",
       "      <th>3</th>\n",
       "      <td>Canada</td>\n",
       "      <td>173.0</td>\n",
       "      <td>9950000.0</td>\n",
       "      <td>34750545.0</td>\n",
       "      <td>1.824289e+12</td>\n",
       "      <td>Canada</td>\n",
       "      <td>30.8</td>\n",
       "      <td>4</td>\n",
       "      <td>52496.694870</td>\n",
       "      <td>1.151061</td>\n",
       "      <td>0.286326</td>\n",
       "      <td>0.004978</td>\n",
       "    </tr>\n",
       "    <tr>\n",
       "      <th>4</th>\n",
       "      <td>Denmark</td>\n",
       "      <td>15.0</td>\n",
       "      <td>650000.0</td>\n",
       "      <td>5591572.0</td>\n",
       "      <td>3.271489e+11</td>\n",
       "      <td>Denmark</td>\n",
       "      <td>12.0</td>\n",
       "      <td>0</td>\n",
       "      <td>58507.500210</td>\n",
       "      <td>0.000000</td>\n",
       "      <td>0.116246</td>\n",
       "      <td>0.002683</td>\n",
       "    </tr>\n",
       "  </tbody>\n",
       "</table>\n",
       "</div>"
      ],
      "text/plain": [
       "  Country Name  Number of homicides by firearm  \\\n",
       "0    Australia                            30.0   \n",
       "1      Austria                            18.0   \n",
       "2      Belgium                            70.0   \n",
       "3       Canada                           173.0   \n",
       "4      Denmark                            15.0   \n",
       "\n",
       "   Average total all civilian firearms         pop           GDP    Country  \\\n",
       "0                            3050000.0  22742475.0  1.543411e+12  Australia   \n",
       "1                            2500000.0   8429991.0  4.094252e+11    Austria   \n",
       "2                            1800000.0  11128246.0  4.978842e+11    Belgium   \n",
       "3                            9950000.0  34750545.0  1.824289e+12     Canada   \n",
       "4                             650000.0   5591572.0  3.271489e+11    Denmark   \n",
       "\n",
       "   Guns/100 inhabitants  Number of mass shootings         gdppp  shootingspp  \\\n",
       "0                  15.0                         4  67864.689862     1.758824   \n",
       "1                  30.4                         1  48567.695286     1.186241   \n",
       "2                  17.2                         2  44740.583248     1.797228   \n",
       "3                  30.8                         4  52496.694870     1.151061   \n",
       "4                  12.0                         0  58507.500210     0.000000   \n",
       "\n",
       "   firearmspp  homicidespp  \n",
       "0    0.134110     0.001319  \n",
       "1    0.296560     0.002135  \n",
       "2    0.161751     0.006290  \n",
       "3    0.286326     0.004978  \n",
       "4    0.116246     0.002683  "
      ]
     },
     "execution_count": 42,
     "metadata": {},
     "output_type": "execute_result"
    }
   ],
   "source": [
    "df_.head()"
   ]
  },
  {
   "cell_type": "code",
   "execution_count": 43,
   "metadata": {},
   "outputs": [
    {
     "name": "stderr",
     "output_type": "stream",
     "text": [
      "/usr/local/Anaconda3-5.0.0-Linux-x86_64/envs/PUI2016_Python3/lib/python3.5/site-packages/matplotlib/font_manager.py:1316: UserWarning: findfont: Font family ['sans-serif'] not found. Falling back to DejaVu Sans\n",
      "  (prop.get_family(), self.defaultFamily[fontext]))\n"
     ]
    },
    {
     "data": {
      "image/png": "[encoded data removed]",
      "text/plain": [
       "<matplotlib.figure.Figure at 0x7f81d025b9b0>"
      ]
     },
     "metadata": {},
     "output_type": "display_data"
    }
   ],
   "source": [
    "fig = pl.figure(figsize=(10,6)) \n",
    "ax = fig.add_subplot(111)\n",
    "\n",
    "scatter = ax.scatter(df_['firearmspp'], df_['shootingspp'])\n",
    "ax.set_ylabel(\"Number of mass shootings per person\")\n",
    "ax.set_xlabel(\"Average total all civilian firearms per person\")\n",
    "ax.set_ylim()\n",
    "pl.show()"
   ]
  },
  {
   "cell_type": "code",
   "execution_count": 44,
   "metadata": {},
   "outputs": [
    {
     "data": {
      "text/html": [
       "<table class=\"simpletable\">\n",
       "<caption>OLS Regression Results</caption>\n",
       "<tr>\n",
       "  <th>Dep. Variable:</th>       <td>shootingspp</td>   <th>  R-squared:         </th> <td>   0.192</td>\n",
       "</tr>\n",
       "<tr>\n",
       "  <th>Model:</th>                   <td>OLS</td>       <th>  Adj. R-squared:    </th> <td>   0.153</td>\n",
       "</tr>\n",
       "<tr>\n",
       "  <th>Method:</th>             <td>Least Squares</td>  <th>  F-statistic:       </th> <td>   4.981</td>\n",
       "</tr>\n",
       "<tr>\n",
       "  <th>Date:</th>             <td>Wed, 14 Nov 2018</td> <th>  Prob (F-statistic):</th>  <td>0.0367</td> \n",
       "</tr>\n",
       "<tr>\n",
       "  <th>Time:</th>                 <td>22:28:04</td>     <th>  Log-Likelihood:    </th> <td> -40.676</td>\n",
       "</tr>\n",
       "<tr>\n",
       "  <th>No. Observations:</th>      <td>    23</td>      <th>  AIC:               </th> <td>   85.35</td>\n",
       "</tr>\n",
       "<tr>\n",
       "  <th>Df Residuals:</th>          <td>    21</td>      <th>  BIC:               </th> <td>   87.62</td>\n",
       "</tr>\n",
       "<tr>\n",
       "  <th>Df Model:</th>              <td>     1</td>      <th>                     </th>     <td> </td>   \n",
       "</tr>\n",
       "<tr>\n",
       "  <th>Covariance Type:</th>      <td>nonrobust</td>    <th>                     </th>     <td> </td>   \n",
       "</tr>\n",
       "</table>\n",
       "<table class=\"simpletable\">\n",
       "<tr>\n",
       "       <td></td>         <th>coef</th>     <th>std err</th>      <th>t</th>      <th>P>|t|</th> <th>[95.0% Conf. Int.]</th> \n",
       "</tr>\n",
       "<tr>\n",
       "  <th>const</th>      <td>    0.3684</td> <td>    0.497</td> <td>    0.742</td> <td> 0.467</td> <td>   -0.665     1.402</td>\n",
       "</tr>\n",
       "<tr>\n",
       "  <th>firearmspp</th> <td>    3.8373</td> <td>    1.719</td> <td>    2.232</td> <td> 0.037</td> <td>    0.262     7.413</td>\n",
       "</tr>\n",
       "</table>\n",
       "<table class=\"simpletable\">\n",
       "<tr>\n",
       "  <th>Omnibus:</th>       <td>34.558</td> <th>  Durbin-Watson:     </th> <td>   1.982</td>\n",
       "</tr>\n",
       "<tr>\n",
       "  <th>Prob(Omnibus):</th> <td> 0.000</td> <th>  Jarque-Bera (JB):  </th> <td>  88.760</td>\n",
       "</tr>\n",
       "<tr>\n",
       "  <th>Skew:</th>          <td> 2.666</td> <th>  Prob(JB):          </th> <td>5.32e-20</td>\n",
       "</tr>\n",
       "<tr>\n",
       "  <th>Kurtosis:</th>      <td>11.012</td> <th>  Cond. No.          </th> <td>    5.85</td>\n",
       "</tr>\n",
       "</table>"
      ],
      "text/plain": [
       "<class 'statsmodels.iolib.summary.Summary'>\n",
       "\"\"\"\n",
       "                            OLS Regression Results                            \n",
       "==============================================================================\n",
       "Dep. Variable:            shootingspp   R-squared:                       0.192\n",
       "Model:                            OLS   Adj. R-squared:                  0.153\n",
       "Method:                 Least Squares   F-statistic:                     4.981\n",
       "Date:                Wed, 14 Nov 2018   Prob (F-statistic):             0.0367\n",
       "Time:                        22:28:04   Log-Likelihood:                -40.676\n",
       "No. Observations:                  23   AIC:                             85.35\n",
       "Df Residuals:                      21   BIC:                             87.62\n",
       "Df Model:                           1                                         \n",
       "Covariance Type:            nonrobust                                         \n",
       "==============================================================================\n",
       "                 coef    std err          t      P>|t|      [95.0% Conf. Int.]\n",
       "------------------------------------------------------------------------------\n",
       "const          0.3684      0.497      0.742      0.467        -0.665     1.402\n",
       "firearmspp     3.8373      1.719      2.232      0.037         0.262     7.413\n",
       "==============================================================================\n",
       "Omnibus:                       34.558   Durbin-Watson:                   1.982\n",
       "Prob(Omnibus):                  0.000   Jarque-Bera (JB):               88.760\n",
       "Skew:                           2.666   Prob(JB):                     5.32e-20\n",
       "Kurtosis:                      11.012   Cond. No.                         5.85\n",
       "==============================================================================\n",
       "\n",
       "Warnings:\n",
       "[1] Standard Errors assume that the covariance matrix of the errors is correctly specified.\n",
       "\"\"\""
      ]
     },
     "execution_count": 44,
     "metadata": {},
     "output_type": "execute_result"
    }
   ],
   "source": [
    "ols_fit=sm.OLS(df_['shootingspp'],sm.add_constant(df_['firearmspp'])).fit()\n",
    "ols_fit.summary()"
   ]
  },
  {
   "cell_type": "code",
   "execution_count": 45,
   "metadata": {},
   "outputs": [
    {
     "name": "stderr",
     "output_type": "stream",
     "text": [
      "/usr/local/Anaconda3-5.0.0-Linux-x86_64/envs/PUI2016_Python3/lib/python3.5/site-packages/matplotlib/font_manager.py:1316: UserWarning: findfont: Font family ['sans-serif'] not found. Falling back to DejaVu Sans\n",
      "  (prop.get_family(), self.defaultFamily[fontext]))\n"
     ]
    },
    {
     "data": {
      "image/png": "[encoded data removed]",
      "text/plain": [
       "<matplotlib.figure.Figure at 0x7f81d04373c8>"
      ]
     },
     "metadata": {},
     "output_type": "display_data"
    }
   ],
   "source": [
    "fig = pl.figure(figsize=(10,6)) \n",
    "ax = fig.add_subplot(111)\n",
    "\n",
    "scatter = ax.scatter(df_['firearmspp'], df_['shootingspp'])\n",
    "ax.plot(df_['firearmspp'], ols_fit.fittedvalues, 'b-', label=\"sm.OLS\")\n",
    "ax.set_ylabel(\"Number of mass shootings per person\")\n",
    "ax.set_xlabel(\"Average total all civilian firearms per person\")\n",
    "ax.set_ylim()\n",
    "ax.legend()\n",
    "pl.show()"
   ]
  },
  {
   "cell_type": "code",
   "execution_count": 100,
   "metadata": {},
   "outputs": [
    {
     "data": {
      "text/html": [
       "<table class=\"simpletable\">\n",
       "<caption>WLS Regression Results</caption>\n",
       "<tr>\n",
       "  <th>Dep. Variable:</th>       <td>shootingspp</td>   <th>  R-squared:         </th> <td>   0.360</td>\n",
       "</tr>\n",
       "<tr>\n",
       "  <th>Model:</th>                   <td>WLS</td>       <th>  Adj. R-squared:    </th> <td>   0.329</td>\n",
       "</tr>\n",
       "<tr>\n",
       "  <th>Method:</th>             <td>Least Squares</td>  <th>  F-statistic:       </th> <td>   11.80</td>\n",
       "</tr>\n",
       "<tr>\n",
       "  <th>Date:</th>             <td>Wed, 14 Nov 2018</td> <th>  Prob (F-statistic):</th>  <td>0.00249</td>\n",
       "</tr>\n",
       "<tr>\n",
       "  <th>Time:</th>                 <td>23:39:49</td>     <th>  Log-Likelihood:    </th> <td> -36.680</td>\n",
       "</tr>\n",
       "<tr>\n",
       "  <th>No. Observations:</th>      <td>    23</td>      <th>  AIC:               </th> <td>   77.36</td>\n",
       "</tr>\n",
       "<tr>\n",
       "  <th>Df Residuals:</th>          <td>    21</td>      <th>  BIC:               </th> <td>   79.63</td>\n",
       "</tr>\n",
       "<tr>\n",
       "  <th>Df Model:</th>              <td>     1</td>      <th>                     </th>     <td> </td>   \n",
       "</tr>\n",
       "<tr>\n",
       "  <th>Covariance Type:</th>      <td>nonrobust</td>    <th>                     </th>     <td> </td>   \n",
       "</tr>\n",
       "</table>\n",
       "<table class=\"simpletable\">\n",
       "<tr>\n",
       "       <td></td>         <th>coef</th>     <th>std err</th>      <th>t</th>      <th>P>|t|</th> <th>[95.0% Conf. Int.]</th> \n",
       "</tr>\n",
       "<tr>\n",
       "  <th>const</th>      <td>   -0.0368</td> <td>    0.191</td> <td>   -0.193</td> <td> 0.849</td> <td>   -0.433     0.360</td>\n",
       "</tr>\n",
       "<tr>\n",
       "  <th>firearmspp</th> <td>    5.6299</td> <td>    1.639</td> <td>    3.435</td> <td> 0.002</td> <td>    2.221     9.039</td>\n",
       "</tr>\n",
       "</table>\n",
       "<table class=\"simpletable\">\n",
       "<tr>\n",
       "  <th>Omnibus:</th>       <td>35.848</td> <th>  Durbin-Watson:     </th> <td>   2.011</td>\n",
       "</tr>\n",
       "<tr>\n",
       "  <th>Prob(Omnibus):</th> <td> 0.000</td> <th>  Jarque-Bera (JB):  </th> <td>  98.203</td>\n",
       "</tr>\n",
       "<tr>\n",
       "  <th>Skew:</th>          <td> 2.744</td> <th>  Prob(JB):          </th> <td>4.74e-22</td>\n",
       "</tr>\n",
       "<tr>\n",
       "  <th>Kurtosis:</th>      <td>11.507</td> <th>  Cond. No.          </th> <td>    10.1</td>\n",
       "</tr>\n",
       "</table>"
      ],
      "text/plain": [
       "<class 'statsmodels.iolib.summary.Summary'>\n",
       "\"\"\"\n",
       "                            WLS Regression Results                            \n",
       "==============================================================================\n",
       "Dep. Variable:            shootingspp   R-squared:                       0.360\n",
       "Model:                            WLS   Adj. R-squared:                  0.329\n",
       "Method:                 Least Squares   F-statistic:                     11.80\n",
       "Date:                Wed, 14 Nov 2018   Prob (F-statistic):            0.00249\n",
       "Time:                        23:39:49   Log-Likelihood:                -36.680\n",
       "No. Observations:                  23   AIC:                             77.36\n",
       "Df Residuals:                      21   BIC:                             79.63\n",
       "Df Model:                           1                                         \n",
       "Covariance Type:            nonrobust                                         \n",
       "==============================================================================\n",
       "                 coef    std err          t      P>|t|      [95.0% Conf. Int.]\n",
       "------------------------------------------------------------------------------\n",
       "const         -0.0368      0.191     -0.193      0.849        -0.433     0.360\n",
       "firearmspp     5.6299      1.639      3.435      0.002         2.221     9.039\n",
       "==============================================================================\n",
       "Omnibus:                       35.848   Durbin-Watson:                   2.011\n",
       "Prob(Omnibus):                  0.000   Jarque-Bera (JB):               98.203\n",
       "Skew:                           2.744   Prob(JB):                     4.74e-22\n",
       "Kurtosis:                      11.507   Cond. No.                         10.1\n",
       "==============================================================================\n",
       "\n",
       "Warnings:\n",
       "[1] Standard Errors assume that the covariance matrix of the errors is correctly specified.\n",
       "\"\"\""
      ]
     },
     "execution_count": 100,
     "metadata": {},
     "output_type": "execute_result"
    }
   ],
   "source": [
    "wls_fit = sm.WLS(df_['shootingspp'],sm.add_constant(df_['firearmspp']), weights=1/df_['firearmspp']).fit()\n",
    "wls_fit.summary()"
   ]
  },
  {
   "cell_type": "code",
   "execution_count": 48,
   "metadata": {},
   "outputs": [
    {
     "name": "stderr",
     "output_type": "stream",
     "text": [
      "/usr/local/Anaconda3-5.0.0-Linux-x86_64/envs/PUI2016_Python3/lib/python3.5/site-packages/matplotlib/font_manager.py:1316: UserWarning: findfont: Font family ['sans-serif'] not found. Falling back to DejaVu Sans\n",
      "  (prop.get_family(), self.defaultFamily[fontext]))\n"
     ]
    },
    {
     "data": {
      "image/png": "[encoded data removed]",
      "text/plain": [
       "<matplotlib.figure.Figure at 0x7f81d03a2ac8>"
      ]
     },
     "metadata": {},
     "output_type": "display_data"
    }
   ],
   "source": [
    "fig = pl.figure(figsize=(10,6)) \n",
    "pl.errorbar(df_['firearmspp'], df_['shootingspp'], yerr = np.sqrt(df_['shootingspp'] * 1.0), fmt='.')\n",
    "pl.plot(df_['firearmspp'], ols_fit.fittedvalues, 'b-', label=\"sm.OLS\")\n",
    "pl.plot(df_['firearmspp'], wls_fit.fittedvalues, 'r-', label=\"sm.WLS\")\n",
    "pl.xlabel(\"Number of mass shootings per person\")\n",
    "pl.ylabel(\"Average total all civilian firearms per person\")\n",
    "pl.legend();"
   ]
  },
  {
   "cell_type": "code",
   "execution_count": 49,
   "metadata": {},
   "outputs": [
    {
     "name": "stderr",
     "output_type": "stream",
     "text": [
      "/usr/local/Anaconda3-5.0.0-Linux-x86_64/envs/PUI2016_Python3/lib/python3.5/site-packages/matplotlib/font_manager.py:1316: UserWarning: findfont: Font family ['sans-serif'] not found. Falling back to DejaVu Sans\n",
      "  (prop.get_family(), self.defaultFamily[fontext]))\n"
     ]
    },
    {
     "data": {
      "image/png": "[encoded data removed]",
      "text/plain": [
       "<matplotlib.figure.Figure at 0x7f81d0392630>"
      ]
     },
     "metadata": {},
     "output_type": "display_data"
    }
   ],
   "source": [
    "fig = pl.figure(figsize=(10,6)) \n",
    "ax = fig.add_subplot(111)\n",
    "\n",
    "sns.regplot(y='shootingspp', x='firearmspp', data=df_, ax=ax, color=\"yellow\", label=\"sns\")\n",
    "ax.errorbar(df_['firearmspp'], df_['shootingspp'], yerr = np.sqrt(df_['shootingspp'] * 1.0), fmt='.')\n",
    "ax.plot(df_['firearmspp'], ols_fit.fittedvalues, 'b-', label=\"sm.OLS\")\n",
    "ax.plot(df_['firearmspp'], wls_fit.fittedvalues, 'r-', label=\"sm.WLS\")\n",
    "ax.set_xlabel(\"Number of mass shootings per person\")\n",
    "ax.set_ylabel(\"Average total all civilian firearms per person\")\n",
    "ax.legend();"
   ]
  },
  {
   "cell_type": "code",
   "execution_count": 50,
   "metadata": {},
   "outputs": [],
   "source": [
    "smfmodel = smf.ols('y ~ x + const', data={'x':df_['firearmspp'], 'y':df_['shootingspp'], 'const':np.ones(len(df_['firearmspp']))}).fit()"
   ]
  },
  {
   "cell_type": "code",
   "execution_count": 51,
   "metadata": {},
   "outputs": [
    {
     "name": "stderr",
     "output_type": "stream",
     "text": [
      "/usr/local/Anaconda3-5.0.0-Linux-x86_64/envs/PUI2016_Python3/lib/python3.5/site-packages/matplotlib/font_manager.py:1316: UserWarning: findfont: Font family ['sans-serif'] not found. Falling back to DejaVu Sans\n",
      "  (prop.get_family(), self.defaultFamily[fontext]))\n"
     ]
    },
    {
     "data": {
      "image/png": "[encoded data removed]",
      "text/plain": [
       "<matplotlib.figure.Figure at 0x7f81cd2cd0b8>"
      ]
     },
     "metadata": {},
     "output_type": "display_data"
    }
   ],
   "source": [
    "fig = pl.figure(figsize=(10,6)) \n",
    "ax = fig.add_subplot(111)\n",
    "\n",
    "sns.regplot(y='shootingspp', x='firearmspp', data=df_, ax=ax, color=\"yellow\", label=\"sns\")\n",
    "ax.errorbar(df_['firearmspp'], df_['shootingspp'], yerr = np.sqrt(df_['shootingspp'] * 1.0), fmt='.')\n",
    "ax.plot(df_['firearmspp'], smfmodel.fittedvalues, 'g-', label=\"smf.OLS\")\n",
    "ax.plot(df_['firearmspp'], ols_fit.fittedvalues, 'b-', label=\"sm.OLS\")\n",
    "ax.plot(df_['firearmspp'], wls_fit.fittedvalues, 'r-', label=\"sm.WLS\")\n",
    "ax.set_xlabel(\"Number of mass shootings per person\")\n",
    "ax.set_ylabel(\"Average total all civilian firearms per person\")\n",
    "ax.legend();"
   ]
  },
  {
   "cell_type": "markdown",
   "metadata": {
    "run_control": {
     "frozen": false,
     "read_only": false
    }
   },
   "source": [
    "## Outlier removal:\n",
    "The concept of outlier is actually rather sophisticated: a point can be an outlier in a context but not in another. If you want to remove outliers and try different fits, here is some info on how to remove data efficiently from a dataset \n",
    "    https://gist.github.com/fedhere/89db40a3c9a28335bf5a35d52a52c595"
   ]
  },
  {
   "cell_type": "code",
   "execution_count": 52,
   "metadata": {},
   "outputs": [],
   "source": [
    "indexAnd = ( (df_['shootingspp'] < 6) & (df_['firearmspp']  < 0.6) ) \n",
    "new=df_[indexAnd]"
   ]
  },
  {
   "cell_type": "code",
   "execution_count": 53,
   "metadata": {},
   "outputs": [
    {
     "name": "stderr",
     "output_type": "stream",
     "text": [
      "/usr/local/Anaconda3-5.0.0-Linux-x86_64/envs/PUI2016_Python3/lib/python3.5/site-packages/matplotlib/font_manager.py:1316: UserWarning: findfont: Font family ['sans-serif'] not found. Falling back to DejaVu Sans\n",
      "  (prop.get_family(), self.defaultFamily[fontext]))\n"
     ]
    },
    {
     "data": {
      "image/png": "[encoded data removed]",
      "text/plain": [
       "<matplotlib.figure.Figure at 0x7f81cd31f550>"
      ]
     },
     "metadata": {},
     "output_type": "display_data"
    }
   ],
   "source": [
    "fig = pl.figure(figsize=(10,6)) \n",
    "ax = fig.add_subplot(111)\n",
    "\n",
    "scatter = ax.scatter(new['firearmspp'], new['shootingspp'])\n",
    "ax.set_ylabel(\"Number of mass shootings per person\")\n",
    "ax.set_xlabel(\"Average total all civilian firearms per person\")\n",
    "ax.set_ylim()\n",
    "pl.show()"
   ]
  },
  {
   "cell_type": "code",
   "execution_count": 54,
   "metadata": {},
   "outputs": [
    {
     "data": {
      "text/html": [
       "<table class=\"simpletable\">\n",
       "<caption>OLS Regression Results</caption>\n",
       "<tr>\n",
       "  <th>Dep. Variable:</th>       <td>shootingspp</td>   <th>  R-squared:         </th> <td>   0.525</td>\n",
       "</tr>\n",
       "<tr>\n",
       "  <th>Model:</th>                   <td>OLS</td>       <th>  Adj. R-squared:    </th> <td>   0.500</td>\n",
       "</tr>\n",
       "<tr>\n",
       "  <th>Method:</th>             <td>Least Squares</td>  <th>  F-statistic:       </th> <td>   21.02</td>\n",
       "</tr>\n",
       "<tr>\n",
       "  <th>Date:</th>             <td>Wed, 14 Nov 2018</td> <th>  Prob (F-statistic):</th> <td>0.000202</td>\n",
       "</tr>\n",
       "<tr>\n",
       "  <th>Time:</th>                 <td>22:29:03</td>     <th>  Log-Likelihood:    </th> <td> -22.679</td>\n",
       "</tr>\n",
       "<tr>\n",
       "  <th>No. Observations:</th>      <td>    21</td>      <th>  AIC:               </th> <td>   49.36</td>\n",
       "</tr>\n",
       "<tr>\n",
       "  <th>Df Residuals:</th>          <td>    19</td>      <th>  BIC:               </th> <td>   51.45</td>\n",
       "</tr>\n",
       "<tr>\n",
       "  <th>Df Model:</th>              <td>     1</td>      <th>                     </th>     <td> </td>   \n",
       "</tr>\n",
       "<tr>\n",
       "  <th>Covariance Type:</th>      <td>nonrobust</td>    <th>                     </th>     <td> </td>   \n",
       "</tr>\n",
       "</table>\n",
       "<table class=\"simpletable\">\n",
       "<tr>\n",
       "       <td></td>         <th>coef</th>     <th>std err</th>      <th>t</th>      <th>P>|t|</th> <th>[95.0% Conf. Int.]</th> \n",
       "</tr>\n",
       "<tr>\n",
       "  <th>const</th>      <td>   -0.2731</td> <td>    0.306</td> <td>   -0.894</td> <td> 0.383</td> <td>   -0.913     0.367</td>\n",
       "</tr>\n",
       "<tr>\n",
       "  <th>firearmspp</th> <td>    6.0230</td> <td>    1.314</td> <td>    4.585</td> <td> 0.000</td> <td>    3.274     8.772</td>\n",
       "</tr>\n",
       "</table>\n",
       "<table class=\"simpletable\">\n",
       "<tr>\n",
       "  <th>Omnibus:</th>       <td> 0.185</td> <th>  Durbin-Watson:     </th> <td>   2.001</td>\n",
       "</tr>\n",
       "<tr>\n",
       "  <th>Prob(Omnibus):</th> <td> 0.911</td> <th>  Jarque-Bera (JB):  </th> <td>   0.379</td>\n",
       "</tr>\n",
       "<tr>\n",
       "  <th>Skew:</th>          <td> 0.141</td> <th>  Prob(JB):          </th> <td>   0.828</td>\n",
       "</tr>\n",
       "<tr>\n",
       "  <th>Kurtosis:</th>      <td> 2.405</td> <th>  Cond. No.          </th> <td>    8.35</td>\n",
       "</tr>\n",
       "</table>"
      ],
      "text/plain": [
       "<class 'statsmodels.iolib.summary.Summary'>\n",
       "\"\"\"\n",
       "                            OLS Regression Results                            \n",
       "==============================================================================\n",
       "Dep. Variable:            shootingspp   R-squared:                       0.525\n",
       "Model:                            OLS   Adj. R-squared:                  0.500\n",
       "Method:                 Least Squares   F-statistic:                     21.02\n",
       "Date:                Wed, 14 Nov 2018   Prob (F-statistic):           0.000202\n",
       "Time:                        22:29:03   Log-Likelihood:                -22.679\n",
       "No. Observations:                  21   AIC:                             49.36\n",
       "Df Residuals:                      19   BIC:                             51.45\n",
       "Df Model:                           1                                         \n",
       "Covariance Type:            nonrobust                                         \n",
       "==============================================================================\n",
       "                 coef    std err          t      P>|t|      [95.0% Conf. Int.]\n",
       "------------------------------------------------------------------------------\n",
       "const         -0.2731      0.306     -0.894      0.383        -0.913     0.367\n",
       "firearmspp     6.0230      1.314      4.585      0.000         3.274     8.772\n",
       "==============================================================================\n",
       "Omnibus:                        0.185   Durbin-Watson:                   2.001\n",
       "Prob(Omnibus):                  0.911   Jarque-Bera (JB):                0.379\n",
       "Skew:                           0.141   Prob(JB):                        0.828\n",
       "Kurtosis:                       2.405   Cond. No.                         8.35\n",
       "==============================================================================\n",
       "\n",
       "Warnings:\n",
       "[1] Standard Errors assume that the covariance matrix of the errors is correctly specified.\n",
       "\"\"\""
      ]
     },
     "execution_count": 54,
     "metadata": {},
     "output_type": "execute_result"
    }
   ],
   "source": [
    "ols_fit2=sm.OLS(new['shootingspp'],sm.add_constant(new['firearmspp'])).fit()\n",
    "ols_fit2.summary()"
   ]
  },
  {
   "cell_type": "code",
   "execution_count": 55,
   "metadata": {},
   "outputs": [
    {
     "name": "stderr",
     "output_type": "stream",
     "text": [
      "/usr/local/Anaconda3-5.0.0-Linux-x86_64/envs/PUI2016_Python3/lib/python3.5/site-packages/matplotlib/font_manager.py:1316: UserWarning: findfont: Font family ['sans-serif'] not found. Falling back to DejaVu Sans\n",
      "  (prop.get_family(), self.defaultFamily[fontext]))\n"
     ]
    },
    {
     "data": {
      "image/png": "[encoded data removed]",
      "text/plain": [
       "<matplotlib.figure.Figure at 0x7f81cd306d68>"
      ]
     },
     "metadata": {},
     "output_type": "display_data"
    }
   ],
   "source": [
    "fig = pl.figure(figsize=(10,6)) \n",
    "ax = fig.add_subplot(111)\n",
    "\n",
    "scatter = ax.scatter(new['firearmspp'], new['shootingspp'])\n",
    "ax.plot(new['firearmspp'], ols_fit2.fittedvalues, 'b-', label=\"sm.OLS\")\n",
    "ax.set_ylabel(\"Number of mass shootings per person\")\n",
    "ax.set_xlabel(\"Average total all civilian firearms per person\")\n",
    "ax.legend()\n",
    "pl.show()"
   ]
  },
  {
   "cell_type": "code",
   "execution_count": 56,
   "metadata": {},
   "outputs": [
    {
     "data": {
      "text/html": [
       "<table class=\"simpletable\">\n",
       "<caption>WLS Regression Results</caption>\n",
       "<tr>\n",
       "  <th>Dep. Variable:</th>       <td>shootingspp</td>   <th>  R-squared:         </th> <td>   0.575</td>\n",
       "</tr>\n",
       "<tr>\n",
       "  <th>Model:</th>                   <td>WLS</td>       <th>  Adj. R-squared:    </th> <td>   0.553</td>\n",
       "</tr>\n",
       "<tr>\n",
       "  <th>Method:</th>             <td>Least Squares</td>  <th>  F-statistic:       </th> <td>   25.73</td>\n",
       "</tr>\n",
       "<tr>\n",
       "  <th>Date:</th>             <td>Wed, 14 Nov 2018</td> <th>  Prob (F-statistic):</th> <td>6.76e-05</td>\n",
       "</tr>\n",
       "<tr>\n",
       "  <th>Time:</th>                 <td>22:29:14</td>     <th>  Log-Likelihood:    </th> <td> -18.830</td>\n",
       "</tr>\n",
       "<tr>\n",
       "  <th>No. Observations:</th>      <td>    21</td>      <th>  AIC:               </th> <td>   41.66</td>\n",
       "</tr>\n",
       "<tr>\n",
       "  <th>Df Residuals:</th>          <td>    19</td>      <th>  BIC:               </th> <td>   43.75</td>\n",
       "</tr>\n",
       "<tr>\n",
       "  <th>Df Model:</th>              <td>     1</td>      <th>                     </th>     <td> </td>   \n",
       "</tr>\n",
       "<tr>\n",
       "  <th>Covariance Type:</th>      <td>nonrobust</td>    <th>                     </th>     <td> </td>   \n",
       "</tr>\n",
       "</table>\n",
       "<table class=\"simpletable\">\n",
       "<tr>\n",
       "       <td></td>         <th>coef</th>     <th>std err</th>      <th>t</th>      <th>P>|t|</th> <th>[95.0% Conf. Int.]</th> \n",
       "</tr>\n",
       "<tr>\n",
       "  <th>const</th>      <td>   -0.0636</td> <td>    0.102</td> <td>   -0.623</td> <td> 0.541</td> <td>   -0.277     0.150</td>\n",
       "</tr>\n",
       "<tr>\n",
       "  <th>firearmspp</th> <td>    4.9572</td> <td>    0.977</td> <td>    5.073</td> <td> 0.000</td> <td>    2.912     7.002</td>\n",
       "</tr>\n",
       "</table>\n",
       "<table class=\"simpletable\">\n",
       "<tr>\n",
       "  <th>Omnibus:</th>       <td> 1.817</td> <th>  Durbin-Watson:     </th> <td>   1.837</td>\n",
       "</tr>\n",
       "<tr>\n",
       "  <th>Prob(Omnibus):</th> <td> 0.403</td> <th>  Jarque-Bera (JB):  </th> <td>   1.428</td>\n",
       "</tr>\n",
       "<tr>\n",
       "  <th>Skew:</th>          <td> 0.468</td> <th>  Prob(JB):          </th> <td>   0.490</td>\n",
       "</tr>\n",
       "<tr>\n",
       "  <th>Kurtosis:</th>      <td> 2.131</td> <th>  Cond. No.          </th> <td>    11.3</td>\n",
       "</tr>\n",
       "</table>"
      ],
      "text/plain": [
       "<class 'statsmodels.iolib.summary.Summary'>\n",
       "\"\"\"\n",
       "                            WLS Regression Results                            \n",
       "==============================================================================\n",
       "Dep. Variable:            shootingspp   R-squared:                       0.575\n",
       "Model:                            WLS   Adj. R-squared:                  0.553\n",
       "Method:                 Least Squares   F-statistic:                     25.73\n",
       "Date:                Wed, 14 Nov 2018   Prob (F-statistic):           6.76e-05\n",
       "Time:                        22:29:14   Log-Likelihood:                -18.830\n",
       "No. Observations:                  21   AIC:                             41.66\n",
       "Df Residuals:                      19   BIC:                             43.75\n",
       "Df Model:                           1                                         \n",
       "Covariance Type:            nonrobust                                         \n",
       "==============================================================================\n",
       "                 coef    std err          t      P>|t|      [95.0% Conf. Int.]\n",
       "------------------------------------------------------------------------------\n",
       "const         -0.0636      0.102     -0.623      0.541        -0.277     0.150\n",
       "firearmspp     4.9572      0.977      5.073      0.000         2.912     7.002\n",
       "==============================================================================\n",
       "Omnibus:                        1.817   Durbin-Watson:                   1.837\n",
       "Prob(Omnibus):                  0.403   Jarque-Bera (JB):                1.428\n",
       "Skew:                           0.468   Prob(JB):                        0.490\n",
       "Kurtosis:                       2.131   Cond. No.                         11.3\n",
       "==============================================================================\n",
       "\n",
       "Warnings:\n",
       "[1] Standard Errors assume that the covariance matrix of the errors is correctly specified.\n",
       "\"\"\""
      ]
     },
     "execution_count": 56,
     "metadata": {},
     "output_type": "execute_result"
    }
   ],
   "source": [
    "wls_fit2 = sm.WLS(new['shootingspp'],sm.add_constant(new['firearmspp']), weights=1/new['firearmspp']).fit()\n",
    "wls_fit2.summary()"
   ]
  },
  {
   "cell_type": "code",
   "execution_count": 57,
   "metadata": {},
   "outputs": [
    {
     "name": "stderr",
     "output_type": "stream",
     "text": [
      "/usr/local/Anaconda3-5.0.0-Linux-x86_64/envs/PUI2016_Python3/lib/python3.5/site-packages/matplotlib/font_manager.py:1316: UserWarning: findfont: Font family ['sans-serif'] not found. Falling back to DejaVu Sans\n",
      "  (prop.get_family(), self.defaultFamily[fontext]))\n"
     ]
    },
    {
     "data": {
      "image/png": "[encoded data removed]",
      "text/plain": [
       "<matplotlib.figure.Figure at 0x7f81cd40da20>"
      ]
     },
     "metadata": {},
     "output_type": "display_data"
    }
   ],
   "source": [
    "ig = pl.figure(figsize=(10,6)) \n",
    "pl.errorbar(new['firearmspp'], new['shootingspp'], yerr = np.sqrt(new['shootingspp'] * 1.0), fmt='.')\n",
    "pl.plot(new['firearmspp'], ols_fit2.fittedvalues, 'b-', label=\"sm.OLS\")\n",
    "pl.plot(new['firearmspp'], wls_fit2.fittedvalues, 'r-', label=\"sm.WLS\")\n",
    "pl.xlabel(\"Number of mass shootings per person\")\n",
    "pl.ylabel(\"Average total all civilian firearms per person\")\n",
    "pl.legend();"
   ]
  },
  {
   "cell_type": "markdown",
   "metadata": {
    "ExecuteTime": {
     "end_time": "2017-10-12T16:21:08.019663",
     "start_time": "2017-10-12T16:21:08.010876"
    },
    "run_control": {
     "frozen": false,
     "read_only": false
    }
   },
   "source": [
    "## Extra credit: calculate the confidence interval by hand and also plot them \n",
    "you can use pylab.fill_between(x, yfit - ci, yfit + ci, alpha=0.5)"
   ]
  },
  {
   "cell_type": "markdown",
   "metadata": {
    "run_control": {
     "frozen": false,
     "read_only": false
    }
   },
   "source": [
    "**Confidence intervals: **\n",
    "there are three type of intervals in a linear regression, plot any one of them all three if you want - how do they compare to the seaborn plot?:\n",
    "\n",
    "1) Confidence intervals for the parameters slope and intercept\n",
    "\n",
    "2) Confidence interval for the average y value\n",
    "\n",
    "3) Prediction interval for a single y value"
   ]
  },
  {
   "cell_type": "markdown",
   "metadata": {
    "run_control": {
     "frozen": false,
     "read_only": false
    }
   },
   "source": [
    "1) __confidence interval of the  model parameters slope and intercept:__\n",
    "define sigma as the sum of the residuals over the square root of number n of observations. \n",
    "\n",
    "sigma: σ̂ =sqrt(Sum((Yoberved_i−Ypredicted_i)^2)/n)\n",
    "\n",
    "where the sum is over all observations\n",
    "\n",
    "Define t_alpha/2,n-2 the t statistics at (1-alpha/2) for a t distribution with n-2 degrees of freedom (you can calculate it with scipy\n",
    "tp = sp.stats.t.ppf(0.975, n-2)\n",
    "\n"
   ]
  },
  {
   "cell_type": "markdown",
   "metadata": {
    "run_control": {
     "frozen": false,
     "read_only": false
    }
   },
   "source": [
    "2) **A confidence interval for E(y | x) , the expected (average) value of y for a given x_**\n",
    "\n",
    "define s: residual standard error sy = sqrt(Sum((y_observed-y_predicted)^2)/(n-2))\n",
    "\n",
    "(note: n-2 is the degrees of freedom of the problem: observations - number of parameters - 1)\n",
    "\n",
    "the confidence interval for a given y(x*) is: \n",
    "\n",
    "y_predicted(x*) +/- t_(alpha/2)(n-2) * sy * sqrt( 1/n + (x* - mean(x)^2) / sum((x* - mean(x)^2)"
   ]
  },
  {
   "cell_type": "markdown",
   "metadata": {
    "run_control": {
     "frozen": false,
     "read_only": false
    }
   },
   "source": [
    "3) **Confidence intervals for average y (predicted) values**\n",
    "\n",
    "y_predicted(x*) +/- t_(n-2) * sy * sqrt( 1 + 1/n + (x* - mean(x)^2) / sum((x* - mean(x)^2)\n",
    "\n",
    "very similar, but note the +1 in the square root"
   ]
  },
  {
   "cell_type": "markdown",
   "metadata": {},
   "source": [
    "## I use confidence intervals for average y (predicted) values"
   ]
  },
  {
   "cell_type": "code",
   "execution_count": 74,
   "metadata": {},
   "outputs": [],
   "source": [
    "y=new['shootingspp']\n",
    "x=new['firearmspp']\n",
    "y_hat=ols_fit2.fittedvalues"
   ]
  },
  {
   "cell_type": "code",
   "execution_count": 73,
   "metadata": {},
   "outputs": [],
   "source": [
    "sy=sqrt(sum((y-y_hat)**2)/(len(y)-2))"
   ]
  },
  {
   "cell_type": "code",
   "execution_count": 79,
   "metadata": {},
   "outputs": [],
   "source": [
    "mse=sqrt(1 + 1/len(y) + (x - x.mean())**2/sum((x-x.mean())**2))"
   ]
  },
  {
   "cell_type": "code",
   "execution_count": 114,
   "metadata": {},
   "outputs": [],
   "source": [
    "import scipy as sp\n",
    "tp = sp.stats.t.ppf(0.975, len(y)-2)"
   ]
  },
  {
   "cell_type": "code",
   "execution_count": 117,
   "metadata": {},
   "outputs": [],
   "source": [
    "ci = tp * sy * mse"
   ]
  },
  {
   "cell_type": "code",
   "execution_count": 118,
   "metadata": {},
   "outputs": [
    {
     "data": {
      "text/plain": [
       "<matplotlib.collections.PolyCollection at 0x7f81cc1e6400>"
      ]
     },
     "execution_count": 118,
     "metadata": {},
     "output_type": "execute_result"
    },
    {
     "name": "stderr",
     "output_type": "stream",
     "text": [
      "/usr/local/Anaconda3-5.0.0-Linux-x86_64/envs/PUI2016_Python3/lib/python3.5/site-packages/matplotlib/font_manager.py:1316: UserWarning: findfont: Font family ['sans-serif'] not found. Falling back to DejaVu Sans\n",
      "  (prop.get_family(), self.defaultFamily[fontext]))\n"
     ]
    },
    {
     "data": {
      "image/png": "[encoded data removed]",
      "text/plain": [
       "<matplotlib.figure.Figure at 0x7f81cc2b4828>"
      ]
     },
     "metadata": {},
     "output_type": "display_data"
    }
   ],
   "source": [
    "fig = pl.figure(figsize=(10,5)) \n",
    "ax = fig.add_subplot(111)\n",
    "sns.regplot(y='shootingspp', x='firearmspp', data=new, color=\"red\", label=\"sns\")\n",
    "ax.fill_between(x, y_hat - ci, y_hat + ci, alpha=0.5)"
   ]
  },
  {
   "cell_type": "markdown",
   "metadata": {
    "run_control": {
     "frozen": false,
     "read_only": false
    }
   },
   "source": [
    "## Use the stsatsmodels.gaphics package to plot the influence plot. \n",
    "Read the package documentation to learn how to read this plot and extract the countries with the highest influence\n",
    "\n",
    "This is the topic of this week's assigned reading, so make sure you do the reading before you do this step. It will help you interpret the plot."
   ]
  },
  {
   "cell_type": "code",
   "execution_count": 88,
   "metadata": {},
   "outputs": [
    {
     "name": "stderr",
     "output_type": "stream",
     "text": [
      "/usr/local/Anaconda3-5.0.0-Linux-x86_64/envs/PUI2016_Python3/lib/python3.5/site-packages/matplotlib/font_manager.py:1316: UserWarning: findfont: Font family ['sans-serif'] not found. Falling back to DejaVu Sans\n",
      "  (prop.get_family(), self.defaultFamily[fontext]))\n"
     ]
    },
    {
     "data": {
      "image/png": "[encoded data removed]",
      "text/plain": [
       "<matplotlib.figure.Figure at 0x7f81cc1733c8>"
      ]
     },
     "metadata": {},
     "output_type": "display_data"
    }
   ],
   "source": [
    "fig = pl.figure(figsize=(10,6)) \n",
    "ax = fig.add_subplot(111)\n",
    "sm.graphics.influence_plot(ols_fit, alpha  = 0.05, criterion=\"cooks\", ax=ax);"
   ]
  },
  {
   "cell_type": "markdown",
   "metadata": {
    "run_control": {
     "frozen": false,
     "read_only": false
    }
   },
   "source": [
    "## Extra credit: calculate from scratch the stanrdardized residuals and the H leverage for the WLS model and discuss if there are any differences"
   ]
  },
  {
   "cell_type": "code",
   "execution_count": 101,
   "metadata": {},
   "outputs": [
    {
     "ename": "AttributeError",
     "evalue": "'RegressionResults' object has no attribute 'wendog'",
     "output_type": "error",
     "traceback": [
      "\u001b[0;31m---------------------------------------------------------------------------\u001b[0m",
      "\u001b[0;31mAttributeError\u001b[0m                            Traceback (most recent call last)",
      "\u001b[0;32m<ipython-input-101-5e5bdb7637fc>\u001b[0m in \u001b[0;36m<module>\u001b[0;34m()\u001b[0m\n\u001b[1;32m      1\u001b[0m \u001b[0mfig\u001b[0m \u001b[0;34m=\u001b[0m \u001b[0mpl\u001b[0m\u001b[0;34m.\u001b[0m\u001b[0mfigure\u001b[0m\u001b[0;34m(\u001b[0m\u001b[0mfigsize\u001b[0m\u001b[0;34m=\u001b[0m\u001b[0;34m(\u001b[0m\u001b[0;36m10\u001b[0m\u001b[0;34m,\u001b[0m\u001b[0;36m6\u001b[0m\u001b[0;34m)\u001b[0m\u001b[0;34m)\u001b[0m\u001b[0;34m\u001b[0m\u001b[0m\n\u001b[1;32m      2\u001b[0m \u001b[0max\u001b[0m \u001b[0;34m=\u001b[0m \u001b[0mfig\u001b[0m\u001b[0;34m.\u001b[0m\u001b[0madd_subplot\u001b[0m\u001b[0;34m(\u001b[0m\u001b[0;36m111\u001b[0m\u001b[0;34m)\u001b[0m\u001b[0;34m\u001b[0m\u001b[0m\n\u001b[0;32m----> 3\u001b[0;31m \u001b[0mwls\u001b[0m \u001b[0;34m=\u001b[0m \u001b[0msm\u001b[0m\u001b[0;34m.\u001b[0m\u001b[0mOLS\u001b[0m\u001b[0;34m(\u001b[0m\u001b[0mwls_fit\u001b[0m\u001b[0;34m.\u001b[0m\u001b[0mwendog\u001b[0m\u001b[0;34m,\u001b[0m \u001b[0mwls_fit\u001b[0m\u001b[0;34m.\u001b[0m\u001b[0mwexog\u001b[0m\u001b[0;34m)\u001b[0m\u001b[0;34m.\u001b[0m\u001b[0mfit\u001b[0m\u001b[0;34m(\u001b[0m\u001b[0;34m)\u001b[0m\u001b[0;34m\u001b[0m\u001b[0m\n\u001b[0m\u001b[1;32m      4\u001b[0m \u001b[0msm\u001b[0m\u001b[0;34m.\u001b[0m\u001b[0mgraphics\u001b[0m\u001b[0;34m.\u001b[0m\u001b[0minfluence_plot\u001b[0m\u001b[0;34m(\u001b[0m\u001b[0mwls\u001b[0m\u001b[0;34m,\u001b[0m \u001b[0malpha\u001b[0m \u001b[0;34m=\u001b[0m \u001b[0;36m0.05\u001b[0m\u001b[0;34m,\u001b[0m \u001b[0mcriterion\u001b[0m\u001b[0;34m=\u001b[0m\u001b[0;34m\"cooks\"\u001b[0m\u001b[0;34m,\u001b[0m \u001b[0max\u001b[0m\u001b[0;34m=\u001b[0m\u001b[0max\u001b[0m\u001b[0;34m)\u001b[0m\u001b[0;34m;\u001b[0m\u001b[0;34m\u001b[0m\u001b[0m\n",
      "\u001b[0;32m/usr/local/Anaconda3-5.0.0-Linux-x86_64/envs/PUI2016_Python3/lib/python3.5/site-packages/statsmodels/base/wrapper.py\u001b[0m in \u001b[0;36m__getattribute__\u001b[0;34m(self, attr)\u001b[0m\n\u001b[1;32m     33\u001b[0m             \u001b[0;32mpass\u001b[0m\u001b[0;34m\u001b[0m\u001b[0m\n\u001b[1;32m     34\u001b[0m \u001b[0;34m\u001b[0m\u001b[0m\n\u001b[0;32m---> 35\u001b[0;31m         \u001b[0mobj\u001b[0m \u001b[0;34m=\u001b[0m \u001b[0mgetattr\u001b[0m\u001b[0;34m(\u001b[0m\u001b[0mresults\u001b[0m\u001b[0;34m,\u001b[0m \u001b[0mattr\u001b[0m\u001b[0;34m)\u001b[0m\u001b[0;34m\u001b[0m\u001b[0m\n\u001b[0m\u001b[1;32m     36\u001b[0m         \u001b[0mdata\u001b[0m \u001b[0;34m=\u001b[0m \u001b[0mresults\u001b[0m\u001b[0;34m.\u001b[0m\u001b[0mmodel\u001b[0m\u001b[0;34m.\u001b[0m\u001b[0mdata\u001b[0m\u001b[0;34m\u001b[0m\u001b[0m\n\u001b[1;32m     37\u001b[0m         \u001b[0mhow\u001b[0m \u001b[0;34m=\u001b[0m \u001b[0mself\u001b[0m\u001b[0;34m.\u001b[0m\u001b[0m_wrap_attrs\u001b[0m\u001b[0;34m.\u001b[0m\u001b[0mget\u001b[0m\u001b[0;34m(\u001b[0m\u001b[0mattr\u001b[0m\u001b[0;34m)\u001b[0m\u001b[0;34m\u001b[0m\u001b[0m\n",
      "\u001b[0;31mAttributeError\u001b[0m: 'RegressionResults' object has no attribute 'wendog'"
     ]
    },
    {
     "name": "stderr",
     "output_type": "stream",
     "text": [
      "/usr/local/Anaconda3-5.0.0-Linux-x86_64/envs/PUI2016_Python3/lib/python3.5/site-packages/matplotlib/font_manager.py:1316: UserWarning: findfont: Font family ['sans-serif'] not found. Falling back to DejaVu Sans\n",
      "  (prop.get_family(), self.defaultFamily[fontext]))\n"
     ]
    },
    {
     "data": {
      "image/png": "[encoded data removed]",
      "text/plain": [
       "<matplotlib.figure.Figure at 0x7f81cc27b470>"
      ]
     },
     "metadata": {},
     "output_type": "display_data"
    }
   ],
   "source": [
    "fig = pl.figure(figsize=(10,6)) \n",
    "ax = fig.add_subplot(111)\n",
    "sm.graphics.influence_plot(wls_fit, alpha = 0.05, criterion=\"cooks\", ax=ax);"
   ]
  },
  {
   "cell_type": "code",
   "execution_count": 108,
   "metadata": {},
   "outputs": [
    {
     "data": {
      "text/plain": [
       "<matplotlib.collections.PathCollection at 0x7f81c73a6c18>"
      ]
     },
     "execution_count": 108,
     "metadata": {},
     "output_type": "execute_result"
    },
    {
     "name": "stderr",
     "output_type": "stream",
     "text": [
      "/usr/local/Anaconda3-5.0.0-Linux-x86_64/envs/PUI2016_Python3/lib/python3.5/site-packages/matplotlib/font_manager.py:1316: UserWarning: findfont: Font family ['sans-serif'] not found. Falling back to DejaVu Sans\n",
      "  (prop.get_family(), self.defaultFamily[fontext]))\n"
     ]
    },
    {
     "data": {
      "image/png": "[encoded data removed]",
      "text/plain": [
       "<matplotlib.figure.Figure at 0x7f81cc1e8c18>"
      ]
     },
     "metadata": {},
     "output_type": "display_data"
    }
   ],
   "source": [
    "fig = pl.figure(figsize=(10,6)) \n",
    "ax = fig.add_subplot(111)\n",
    "ax.scatter(x=wls_fit.fittedvalues, y=wls_fit.resid_pearson)"
   ]
  },
  {
   "cell_type": "markdown",
   "metadata": {
    "run_control": {
     "frozen": false,
     "read_only": false
    }
   },
   "source": [
    "## Discuss your findings"
   ]
  },
  {
   "cell_type": "code",
   "execution_count": null,
   "metadata": {},
   "outputs": [],
   "source": []
  }
 ],
 "metadata": {
  "anaconda-cloud": {},
  "kernelspec": {
   "display_name": "PUI2016_Python3",
   "language": "python",
   "name": "pui2016_python3"
  },
  "language_info": {
   "codemirror_mode": {
    "name": "ipython",
    "version": 3
   },
   "file_extension": ".py",
   "mimetype": "text/x-python",
   "name": "python",
   "nbconvert_exporter": "python",
   "pygments_lexer": "ipython3",
   "version": "3.5.4"
  },
  "latex_envs": {
   "LaTeX_envs_menu_present": true,
   "bibliofile": "biblio.bib",
   "cite_by": "apalike",
   "current_citInitial": 1,
   "eqLabelWithNumbers": true,
   "eqNumInitial": 1,
   "hotkeys": {
    "equation": "Ctrl-E",
    "itemize": "Ctrl-I"
   },
   "labels_anchors": false,
   "latex_user_defs": false,
   "report_style_numbering": false,
   "user_envs_cfg": false
  },
  "toc": {
   "colors": {
    "hover_highlight": "#DAA520",
    "running_highlight": "#FF0000",
    "selected_highlight": "#FFD700"
   },
   "moveMenuLeft": true,
   "nav_menu": {
    "height": "13px",
    "width": "251px"
   },
   "navigate_menu": true,
   "number_sections": true,
   "sideBar": true,
   "threshold": 4,
   "toc_cell": true,
   "toc_section_display": "block",
   "toc_window_display": true
  }
 },
 "nbformat": 4,
 "nbformat_minor": 2
}
